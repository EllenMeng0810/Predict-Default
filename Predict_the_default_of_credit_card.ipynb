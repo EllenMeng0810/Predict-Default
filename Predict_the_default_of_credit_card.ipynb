{
  "nbformat": 4,
  "nbformat_minor": 0,
  "metadata": {
    "anaconda-cloud": {},
    "colab": {
      "name": "Predict the default of credit card.ipynb",
      "provenance": [],
      "collapsed_sections": []
    },
    "kernelspec": {
      "display_name": "Python 3",
      "language": "python",
      "name": "python3"
    },
    "language_info": {
      "codemirror_mode": {
        "name": "ipython",
        "version": 3
      },
      "file_extension": ".py",
      "mimetype": "text/x-python",
      "name": "python",
      "nbconvert_exporter": "python",
      "pygments_lexer": "ipython3",
      "version": "3.7.3"
    },
    "toc": {
      "base_numbering": 1,
      "nav_menu": {},
      "number_sections": true,
      "sideBar": true,
      "skip_h1_title": false,
      "title_cell": "Table of Contents",
      "title_sidebar": "Contents",
      "toc_cell": false,
      "toc_position": {},
      "toc_section_display": true,
      "toc_window_display": false
    }
  },
  "cells": [
    {
      "cell_type": "markdown",
      "metadata": {
        "id": "FrJwTbG5s68C"
      },
      "source": [
        "# Project: Predict the default of a credit card"
      ]
    },
    {
      "cell_type": "markdown",
      "metadata": {
        "id": "Iuhw6pa_GmAT"
      },
      "source": [
        "Problem: Trying to predict if someone is going to default on their credit card. The type of machine learning is supervised, due to having a target variable.\n"
      ]
    },
    {
      "cell_type": "markdown",
      "metadata": {
        "id": "KVbxv4BNs68D"
      },
      "source": [
        "The training data set includes a binary variable, default payment (Yes = 1, No = 0), as the target variable, and the following 23 variables as the features variables:\n",
        "\n",
        "- X1: Amount of the given credit \n",
        "- X2: Gender (1 = male; 2 = female) \n",
        "- X3: Education (1 = graduate school; 2 = university; 3 = high school; 4 = others) \n",
        "- X4: Marital status (1 = married; 2 = single; 3 = others) \n",
        "- X5: Age \n",
        "- X6 - X11: History of past payment. We tracked the past monthly payment records (from April to September, 2005) as follows: X6 = the repayment status in September, 2005; X7 = the repayment status in August, 2005; . . .;X11 = the repayment status in April, 2005. The measurement scale for the repayment status is: -1 = pay duly; 1 = payment delay for one month; 2 = payment delay for two months; . . .; 8 = payment delay for eight months; 9 = payment delay for nine months and above. \n",
        "- X12-X17: Amount of bill statement. X12 = amount of bill statement in September, 2005; X13 = amount of bill statement in August, 2005; . . .; X17 = amount of bill statement in April, 2005. \n",
        "- X18-X23: Amount of previous payment. X18 = amount paid in September, 2005; X19 = amount paid in August, 2005; . . .;X23 = amount paid in April, 2005. \n",
        "\n",
        "Hint: Check the target variable; is the classes balanced or imbalanced?\n",
        "\n",
        "\n",
        "data file: https://raw.githubusercontent.com/franklin-univ-data-science/data/master/credit_default.csv \n",
        " "
      ]
    },
    {
      "cell_type": "code",
      "metadata": {
        "id": "RKY0zeRpYJxD"
      },
      "source": [
        "# Libraries\n",
        "import pandas as pd\n",
        "import numpy as np\n",
        "import matplotlib.pyplot as plt\n",
        "import seaborn as sns\n",
        "from sklearn.preprocessing import StandardScaler\n",
        "from sklearn.model_selection import GridSearchCV, train_test_split\n",
        "from sklearn.decomposition import PCA\n",
        "from sklearn.pipeline import make_pipeline\n",
        "from sklearn.metrics import mean_squared_error\n",
        "from sklearn.metrics import r2_score\n",
        "\n",
        "# Import ML modules\n",
        "from sklearn.linear_model import LogisticRegression"
      ],
      "execution_count": null,
      "outputs": []
    },
    {
      "cell_type": "markdown",
      "metadata": {
        "id": "RDbIhK6gYKB0"
      },
      "source": [
        "### Initial Data Exploration"
      ]
    },
    {
      "cell_type": "code",
      "metadata": {
        "colab": {
          "base_uri": "https://localhost:8080/",
          "height": 662
        },
        "id": "m6E99_NxEo4L",
        "outputId": "7733542d-b51c-42b6-9d72-e21f5cdefc13"
      },
      "source": [
        "\n",
        "\n",
        "data = pd.read_csv('https://raw.githubusercontent.com/franklin-univ-data-science/data/master/credit_default.csv')\n",
        "# Drop ID column\n",
        "data = data.drop('ID', axis = 1)\n",
        "\n",
        "data.sample(20)"
      ],
      "execution_count": null,
      "outputs": [
        {
          "output_type": "execute_result",
          "data": {
            "text/html": [
              "<div>\n",
              "<style scoped>\n",
              "    .dataframe tbody tr th:only-of-type {\n",
              "        vertical-align: middle;\n",
              "    }\n",
              "\n",
              "    .dataframe tbody tr th {\n",
              "        vertical-align: top;\n",
              "    }\n",
              "\n",
              "    .dataframe thead th {\n",
              "        text-align: right;\n",
              "    }\n",
              "</style>\n",
              "<table border=\"1\" class=\"dataframe\">\n",
              "  <thead>\n",
              "    <tr style=\"text-align: right;\">\n",
              "      <th></th>\n",
              "      <th>X1</th>\n",
              "      <th>X2</th>\n",
              "      <th>X3</th>\n",
              "      <th>X4</th>\n",
              "      <th>X5</th>\n",
              "      <th>X6</th>\n",
              "      <th>X7</th>\n",
              "      <th>X8</th>\n",
              "      <th>X9</th>\n",
              "      <th>X10</th>\n",
              "      <th>X11</th>\n",
              "      <th>X12</th>\n",
              "      <th>X13</th>\n",
              "      <th>X14</th>\n",
              "      <th>X15</th>\n",
              "      <th>X16</th>\n",
              "      <th>X17</th>\n",
              "      <th>X18</th>\n",
              "      <th>X19</th>\n",
              "      <th>X20</th>\n",
              "      <th>X21</th>\n",
              "      <th>X22</th>\n",
              "      <th>X23</th>\n",
              "      <th>Y</th>\n",
              "    </tr>\n",
              "  </thead>\n",
              "  <tbody>\n",
              "    <tr>\n",
              "      <th>12119</th>\n",
              "      <td>20000</td>\n",
              "      <td>2</td>\n",
              "      <td>1</td>\n",
              "      <td>2</td>\n",
              "      <td>22</td>\n",
              "      <td>1</td>\n",
              "      <td>2</td>\n",
              "      <td>2</td>\n",
              "      <td>0</td>\n",
              "      <td>0</td>\n",
              "      <td>2</td>\n",
              "      <td>11087</td>\n",
              "      <td>11712</td>\n",
              "      <td>11164</td>\n",
              "      <td>11395</td>\n",
              "      <td>11927</td>\n",
              "      <td>9186</td>\n",
              "      <td>1100</td>\n",
              "      <td>0</td>\n",
              "      <td>289</td>\n",
              "      <td>594</td>\n",
              "      <td>0</td>\n",
              "      <td>50</td>\n",
              "      <td>0</td>\n",
              "    </tr>\n",
              "    <tr>\n",
              "      <th>2585</th>\n",
              "      <td>100000</td>\n",
              "      <td>1</td>\n",
              "      <td>2</td>\n",
              "      <td>2</td>\n",
              "      <td>25</td>\n",
              "      <td>0</td>\n",
              "      <td>0</td>\n",
              "      <td>0</td>\n",
              "      <td>0</td>\n",
              "      <td>-2</td>\n",
              "      <td>-2</td>\n",
              "      <td>76222</td>\n",
              "      <td>79564</td>\n",
              "      <td>49000</td>\n",
              "      <td>-1000</td>\n",
              "      <td>0</td>\n",
              "      <td>0</td>\n",
              "      <td>4700</td>\n",
              "      <td>1500</td>\n",
              "      <td>0</td>\n",
              "      <td>31000</td>\n",
              "      <td>0</td>\n",
              "      <td>0</td>\n",
              "      <td>0</td>\n",
              "    </tr>\n",
              "    <tr>\n",
              "      <th>13856</th>\n",
              "      <td>170000</td>\n",
              "      <td>1</td>\n",
              "      <td>1</td>\n",
              "      <td>2</td>\n",
              "      <td>28</td>\n",
              "      <td>-2</td>\n",
              "      <td>-2</td>\n",
              "      <td>-2</td>\n",
              "      <td>-2</td>\n",
              "      <td>-2</td>\n",
              "      <td>-2</td>\n",
              "      <td>0</td>\n",
              "      <td>0</td>\n",
              "      <td>0</td>\n",
              "      <td>0</td>\n",
              "      <td>0</td>\n",
              "      <td>0</td>\n",
              "      <td>0</td>\n",
              "      <td>0</td>\n",
              "      <td>0</td>\n",
              "      <td>0</td>\n",
              "      <td>0</td>\n",
              "      <td>0</td>\n",
              "      <td>1</td>\n",
              "    </tr>\n",
              "    <tr>\n",
              "      <th>23248</th>\n",
              "      <td>80000</td>\n",
              "      <td>2</td>\n",
              "      <td>3</td>\n",
              "      <td>1</td>\n",
              "      <td>36</td>\n",
              "      <td>0</td>\n",
              "      <td>0</td>\n",
              "      <td>0</td>\n",
              "      <td>0</td>\n",
              "      <td>0</td>\n",
              "      <td>0</td>\n",
              "      <td>65205</td>\n",
              "      <td>72922</td>\n",
              "      <td>74943</td>\n",
              "      <td>75399</td>\n",
              "      <td>53373</td>\n",
              "      <td>55554</td>\n",
              "      <td>20000</td>\n",
              "      <td>5000</td>\n",
              "      <td>3000</td>\n",
              "      <td>5000</td>\n",
              "      <td>3000</td>\n",
              "      <td>3000</td>\n",
              "      <td>0</td>\n",
              "    </tr>\n",
              "    <tr>\n",
              "      <th>6011</th>\n",
              "      <td>280000</td>\n",
              "      <td>2</td>\n",
              "      <td>1</td>\n",
              "      <td>1</td>\n",
              "      <td>30</td>\n",
              "      <td>1</td>\n",
              "      <td>-2</td>\n",
              "      <td>-2</td>\n",
              "      <td>-2</td>\n",
              "      <td>-2</td>\n",
              "      <td>-2</td>\n",
              "      <td>0</td>\n",
              "      <td>0</td>\n",
              "      <td>0</td>\n",
              "      <td>0</td>\n",
              "      <td>0</td>\n",
              "      <td>0</td>\n",
              "      <td>0</td>\n",
              "      <td>0</td>\n",
              "      <td>0</td>\n",
              "      <td>0</td>\n",
              "      <td>0</td>\n",
              "      <td>0</td>\n",
              "      <td>0</td>\n",
              "    </tr>\n",
              "    <tr>\n",
              "      <th>5124</th>\n",
              "      <td>150000</td>\n",
              "      <td>2</td>\n",
              "      <td>1</td>\n",
              "      <td>1</td>\n",
              "      <td>40</td>\n",
              "      <td>1</td>\n",
              "      <td>-1</td>\n",
              "      <td>-1</td>\n",
              "      <td>0</td>\n",
              "      <td>-1</td>\n",
              "      <td>-1</td>\n",
              "      <td>-15</td>\n",
              "      <td>17671</td>\n",
              "      <td>14517</td>\n",
              "      <td>1870</td>\n",
              "      <td>3495</td>\n",
              "      <td>0</td>\n",
              "      <td>17686</td>\n",
              "      <td>14517</td>\n",
              "      <td>0</td>\n",
              "      <td>3495</td>\n",
              "      <td>0</td>\n",
              "      <td>21754</td>\n",
              "      <td>0</td>\n",
              "    </tr>\n",
              "    <tr>\n",
              "      <th>18119</th>\n",
              "      <td>100000</td>\n",
              "      <td>1</td>\n",
              "      <td>2</td>\n",
              "      <td>2</td>\n",
              "      <td>35</td>\n",
              "      <td>0</td>\n",
              "      <td>0</td>\n",
              "      <td>0</td>\n",
              "      <td>0</td>\n",
              "      <td>0</td>\n",
              "      <td>0</td>\n",
              "      <td>95271</td>\n",
              "      <td>97243</td>\n",
              "      <td>99400</td>\n",
              "      <td>88037</td>\n",
              "      <td>59213</td>\n",
              "      <td>56651</td>\n",
              "      <td>3558</td>\n",
              "      <td>3803</td>\n",
              "      <td>3146</td>\n",
              "      <td>2514</td>\n",
              "      <td>3000</td>\n",
              "      <td>2500</td>\n",
              "      <td>0</td>\n",
              "    </tr>\n",
              "    <tr>\n",
              "      <th>28024</th>\n",
              "      <td>360000</td>\n",
              "      <td>2</td>\n",
              "      <td>3</td>\n",
              "      <td>1</td>\n",
              "      <td>32</td>\n",
              "      <td>0</td>\n",
              "      <td>0</td>\n",
              "      <td>0</td>\n",
              "      <td>0</td>\n",
              "      <td>0</td>\n",
              "      <td>0</td>\n",
              "      <td>227689</td>\n",
              "      <td>206249</td>\n",
              "      <td>182985</td>\n",
              "      <td>186047</td>\n",
              "      <td>188389</td>\n",
              "      <td>191907</td>\n",
              "      <td>7142</td>\n",
              "      <td>8200</td>\n",
              "      <td>7600</td>\n",
              "      <td>6200</td>\n",
              "      <td>6000</td>\n",
              "      <td>7000</td>\n",
              "      <td>0</td>\n",
              "    </tr>\n",
              "    <tr>\n",
              "      <th>22042</th>\n",
              "      <td>150000</td>\n",
              "      <td>2</td>\n",
              "      <td>1</td>\n",
              "      <td>2</td>\n",
              "      <td>25</td>\n",
              "      <td>1</td>\n",
              "      <td>-2</td>\n",
              "      <td>-2</td>\n",
              "      <td>-2</td>\n",
              "      <td>-2</td>\n",
              "      <td>-1</td>\n",
              "      <td>0</td>\n",
              "      <td>0</td>\n",
              "      <td>0</td>\n",
              "      <td>0</td>\n",
              "      <td>0</td>\n",
              "      <td>9240</td>\n",
              "      <td>0</td>\n",
              "      <td>0</td>\n",
              "      <td>0</td>\n",
              "      <td>0</td>\n",
              "      <td>9240</td>\n",
              "      <td>0</td>\n",
              "      <td>0</td>\n",
              "    </tr>\n",
              "    <tr>\n",
              "      <th>5375</th>\n",
              "      <td>360000</td>\n",
              "      <td>2</td>\n",
              "      <td>1</td>\n",
              "      <td>2</td>\n",
              "      <td>28</td>\n",
              "      <td>-2</td>\n",
              "      <td>-2</td>\n",
              "      <td>-2</td>\n",
              "      <td>-2</td>\n",
              "      <td>-2</td>\n",
              "      <td>-2</td>\n",
              "      <td>23088</td>\n",
              "      <td>11628</td>\n",
              "      <td>8556</td>\n",
              "      <td>4578</td>\n",
              "      <td>4784</td>\n",
              "      <td>11938</td>\n",
              "      <td>12000</td>\n",
              "      <td>8598</td>\n",
              "      <td>4601</td>\n",
              "      <td>4808</td>\n",
              "      <td>11997</td>\n",
              "      <td>3708</td>\n",
              "      <td>0</td>\n",
              "    </tr>\n",
              "    <tr>\n",
              "      <th>14470</th>\n",
              "      <td>220000</td>\n",
              "      <td>1</td>\n",
              "      <td>1</td>\n",
              "      <td>1</td>\n",
              "      <td>48</td>\n",
              "      <td>3</td>\n",
              "      <td>2</td>\n",
              "      <td>2</td>\n",
              "      <td>-2</td>\n",
              "      <td>-2</td>\n",
              "      <td>-2</td>\n",
              "      <td>2500</td>\n",
              "      <td>2500</td>\n",
              "      <td>0</td>\n",
              "      <td>0</td>\n",
              "      <td>0</td>\n",
              "      <td>0</td>\n",
              "      <td>0</td>\n",
              "      <td>0</td>\n",
              "      <td>0</td>\n",
              "      <td>0</td>\n",
              "      <td>0</td>\n",
              "      <td>0</td>\n",
              "      <td>1</td>\n",
              "    </tr>\n",
              "    <tr>\n",
              "      <th>15714</th>\n",
              "      <td>210000</td>\n",
              "      <td>1</td>\n",
              "      <td>1</td>\n",
              "      <td>1</td>\n",
              "      <td>47</td>\n",
              "      <td>-1</td>\n",
              "      <td>-1</td>\n",
              "      <td>-1</td>\n",
              "      <td>-1</td>\n",
              "      <td>-1</td>\n",
              "      <td>-1</td>\n",
              "      <td>8417</td>\n",
              "      <td>15271</td>\n",
              "      <td>12803</td>\n",
              "      <td>13984</td>\n",
              "      <td>9958</td>\n",
              "      <td>13066</td>\n",
              "      <td>15271</td>\n",
              "      <td>12831</td>\n",
              "      <td>13996</td>\n",
              "      <td>9958</td>\n",
              "      <td>13066</td>\n",
              "      <td>6151</td>\n",
              "      <td>0</td>\n",
              "    </tr>\n",
              "    <tr>\n",
              "      <th>13816</th>\n",
              "      <td>50000</td>\n",
              "      <td>2</td>\n",
              "      <td>2</td>\n",
              "      <td>2</td>\n",
              "      <td>23</td>\n",
              "      <td>0</td>\n",
              "      <td>0</td>\n",
              "      <td>2</td>\n",
              "      <td>2</td>\n",
              "      <td>0</td>\n",
              "      <td>0</td>\n",
              "      <td>10587</td>\n",
              "      <td>25768</td>\n",
              "      <td>12218</td>\n",
              "      <td>13656</td>\n",
              "      <td>15918</td>\n",
              "      <td>10771</td>\n",
              "      <td>3500</td>\n",
              "      <td>2500</td>\n",
              "      <td>1980</td>\n",
              "      <td>3500</td>\n",
              "      <td>1000</td>\n",
              "      <td>0</td>\n",
              "      <td>0</td>\n",
              "    </tr>\n",
              "    <tr>\n",
              "      <th>15838</th>\n",
              "      <td>360000</td>\n",
              "      <td>2</td>\n",
              "      <td>2</td>\n",
              "      <td>2</td>\n",
              "      <td>29</td>\n",
              "      <td>0</td>\n",
              "      <td>0</td>\n",
              "      <td>0</td>\n",
              "      <td>0</td>\n",
              "      <td>0</td>\n",
              "      <td>0</td>\n",
              "      <td>58653</td>\n",
              "      <td>56329</td>\n",
              "      <td>55957</td>\n",
              "      <td>52392</td>\n",
              "      <td>61700</td>\n",
              "      <td>42975</td>\n",
              "      <td>5886</td>\n",
              "      <td>4054</td>\n",
              "      <td>8412</td>\n",
              "      <td>15096</td>\n",
              "      <td>1208</td>\n",
              "      <td>3000</td>\n",
              "      <td>0</td>\n",
              "    </tr>\n",
              "    <tr>\n",
              "      <th>28468</th>\n",
              "      <td>500000</td>\n",
              "      <td>2</td>\n",
              "      <td>2</td>\n",
              "      <td>1</td>\n",
              "      <td>34</td>\n",
              "      <td>-2</td>\n",
              "      <td>-2</td>\n",
              "      <td>-2</td>\n",
              "      <td>-2</td>\n",
              "      <td>-2</td>\n",
              "      <td>-2</td>\n",
              "      <td>17172</td>\n",
              "      <td>34674</td>\n",
              "      <td>6229</td>\n",
              "      <td>11534</td>\n",
              "      <td>12482</td>\n",
              "      <td>18192</td>\n",
              "      <td>35454</td>\n",
              "      <td>6229</td>\n",
              "      <td>11534</td>\n",
              "      <td>12564</td>\n",
              "      <td>18192</td>\n",
              "      <td>32550</td>\n",
              "      <td>0</td>\n",
              "    </tr>\n",
              "    <tr>\n",
              "      <th>12580</th>\n",
              "      <td>10000</td>\n",
              "      <td>1</td>\n",
              "      <td>2</td>\n",
              "      <td>2</td>\n",
              "      <td>25</td>\n",
              "      <td>-1</td>\n",
              "      <td>2</td>\n",
              "      <td>0</td>\n",
              "      <td>0</td>\n",
              "      <td>-1</td>\n",
              "      <td>-1</td>\n",
              "      <td>7786</td>\n",
              "      <td>8512</td>\n",
              "      <td>9290</td>\n",
              "      <td>9480</td>\n",
              "      <td>388</td>\n",
              "      <td>10000</td>\n",
              "      <td>1000</td>\n",
              "      <td>1000</td>\n",
              "      <td>190</td>\n",
              "      <td>388</td>\n",
              "      <td>10000</td>\n",
              "      <td>0</td>\n",
              "      <td>0</td>\n",
              "    </tr>\n",
              "    <tr>\n",
              "      <th>11452</th>\n",
              "      <td>50000</td>\n",
              "      <td>1</td>\n",
              "      <td>2</td>\n",
              "      <td>2</td>\n",
              "      <td>39</td>\n",
              "      <td>1</td>\n",
              "      <td>2</td>\n",
              "      <td>0</td>\n",
              "      <td>0</td>\n",
              "      <td>0</td>\n",
              "      <td>0</td>\n",
              "      <td>50468</td>\n",
              "      <td>48621</td>\n",
              "      <td>49987</td>\n",
              "      <td>19663</td>\n",
              "      <td>16769</td>\n",
              "      <td>16550</td>\n",
              "      <td>0</td>\n",
              "      <td>2600</td>\n",
              "      <td>650</td>\n",
              "      <td>752</td>\n",
              "      <td>596</td>\n",
              "      <td>578</td>\n",
              "      <td>1</td>\n",
              "    </tr>\n",
              "    <tr>\n",
              "      <th>11412</th>\n",
              "      <td>30000</td>\n",
              "      <td>1</td>\n",
              "      <td>2</td>\n",
              "      <td>1</td>\n",
              "      <td>31</td>\n",
              "      <td>0</td>\n",
              "      <td>0</td>\n",
              "      <td>0</td>\n",
              "      <td>0</td>\n",
              "      <td>0</td>\n",
              "      <td>0</td>\n",
              "      <td>29285</td>\n",
              "      <td>29390</td>\n",
              "      <td>30300</td>\n",
              "      <td>29463</td>\n",
              "      <td>29531</td>\n",
              "      <td>29901</td>\n",
              "      <td>1820</td>\n",
              "      <td>1730</td>\n",
              "      <td>1154</td>\n",
              "      <td>1034</td>\n",
              "      <td>1212</td>\n",
              "      <td>1054</td>\n",
              "      <td>0</td>\n",
              "    </tr>\n",
              "    <tr>\n",
              "      <th>24010</th>\n",
              "      <td>90000</td>\n",
              "      <td>1</td>\n",
              "      <td>2</td>\n",
              "      <td>2</td>\n",
              "      <td>25</td>\n",
              "      <td>0</td>\n",
              "      <td>0</td>\n",
              "      <td>0</td>\n",
              "      <td>0</td>\n",
              "      <td>0</td>\n",
              "      <td>0</td>\n",
              "      <td>91151</td>\n",
              "      <td>88937</td>\n",
              "      <td>91097</td>\n",
              "      <td>52285</td>\n",
              "      <td>46430</td>\n",
              "      <td>47404</td>\n",
              "      <td>3453</td>\n",
              "      <td>3868</td>\n",
              "      <td>1960</td>\n",
              "      <td>1658</td>\n",
              "      <td>1718</td>\n",
              "      <td>2200</td>\n",
              "      <td>0</td>\n",
              "    </tr>\n",
              "    <tr>\n",
              "      <th>15378</th>\n",
              "      <td>120000</td>\n",
              "      <td>2</td>\n",
              "      <td>5</td>\n",
              "      <td>1</td>\n",
              "      <td>41</td>\n",
              "      <td>-2</td>\n",
              "      <td>-2</td>\n",
              "      <td>-2</td>\n",
              "      <td>-2</td>\n",
              "      <td>-2</td>\n",
              "      <td>-2</td>\n",
              "      <td>0</td>\n",
              "      <td>77</td>\n",
              "      <td>-1460</td>\n",
              "      <td>-1460</td>\n",
              "      <td>-1460</td>\n",
              "      <td>-1460</td>\n",
              "      <td>77</td>\n",
              "      <td>1460</td>\n",
              "      <td>0</td>\n",
              "      <td>0</td>\n",
              "      <td>0</td>\n",
              "      <td>0</td>\n",
              "      <td>0</td>\n",
              "    </tr>\n",
              "  </tbody>\n",
              "</table>\n",
              "</div>"
            ],
            "text/plain": [
              "           X1  X2  X3  X4  X5  X6  ...    X19    X20    X21    X22    X23  Y\n",
              "12119   20000   2   1   2  22   1  ...      0    289    594      0     50  0\n",
              "2585   100000   1   2   2  25   0  ...   1500      0  31000      0      0  0\n",
              "13856  170000   1   1   2  28  -2  ...      0      0      0      0      0  1\n",
              "23248   80000   2   3   1  36   0  ...   5000   3000   5000   3000   3000  0\n",
              "6011   280000   2   1   1  30   1  ...      0      0      0      0      0  0\n",
              "5124   150000   2   1   1  40   1  ...  14517      0   3495      0  21754  0\n",
              "18119  100000   1   2   2  35   0  ...   3803   3146   2514   3000   2500  0\n",
              "28024  360000   2   3   1  32   0  ...   8200   7600   6200   6000   7000  0\n",
              "22042  150000   2   1   2  25   1  ...      0      0      0   9240      0  0\n",
              "5375   360000   2   1   2  28  -2  ...   8598   4601   4808  11997   3708  0\n",
              "14470  220000   1   1   1  48   3  ...      0      0      0      0      0  1\n",
              "15714  210000   1   1   1  47  -1  ...  12831  13996   9958  13066   6151  0\n",
              "13816   50000   2   2   2  23   0  ...   2500   1980   3500   1000      0  0\n",
              "15838  360000   2   2   2  29   0  ...   4054   8412  15096   1208   3000  0\n",
              "28468  500000   2   2   1  34  -2  ...   6229  11534  12564  18192  32550  0\n",
              "12580   10000   1   2   2  25  -1  ...   1000    190    388  10000      0  0\n",
              "11452   50000   1   2   2  39   1  ...   2600    650    752    596    578  1\n",
              "11412   30000   1   2   1  31   0  ...   1730   1154   1034   1212   1054  0\n",
              "24010   90000   1   2   2  25   0  ...   3868   1960   1658   1718   2200  0\n",
              "15378  120000   2   5   1  41  -2  ...   1460      0      0      0      0  0\n",
              "\n",
              "[20 rows x 24 columns]"
            ]
          },
          "metadata": {
            "tags": []
          },
          "execution_count": 3
        }
      ]
    },
    {
      "cell_type": "code",
      "metadata": {
        "colab": {
          "base_uri": "https://localhost:8080/",
          "height": 314
        },
        "id": "hGC5jjeDclAp",
        "outputId": "d8865eda-b0fc-4403-bb9c-7398a1021f24"
      },
      "source": [
        "data.describe()"
      ],
      "execution_count": null,
      "outputs": [
        {
          "output_type": "execute_result",
          "data": {
            "text/html": [
              "<div>\n",
              "<style scoped>\n",
              "    .dataframe tbody tr th:only-of-type {\n",
              "        vertical-align: middle;\n",
              "    }\n",
              "\n",
              "    .dataframe tbody tr th {\n",
              "        vertical-align: top;\n",
              "    }\n",
              "\n",
              "    .dataframe thead th {\n",
              "        text-align: right;\n",
              "    }\n",
              "</style>\n",
              "<table border=\"1\" class=\"dataframe\">\n",
              "  <thead>\n",
              "    <tr style=\"text-align: right;\">\n",
              "      <th></th>\n",
              "      <th>X1</th>\n",
              "      <th>X2</th>\n",
              "      <th>X3</th>\n",
              "      <th>X4</th>\n",
              "      <th>X5</th>\n",
              "      <th>X6</th>\n",
              "      <th>X7</th>\n",
              "      <th>X8</th>\n",
              "      <th>X9</th>\n",
              "      <th>X10</th>\n",
              "      <th>X11</th>\n",
              "      <th>X12</th>\n",
              "      <th>X13</th>\n",
              "      <th>X14</th>\n",
              "      <th>X15</th>\n",
              "      <th>X16</th>\n",
              "      <th>X17</th>\n",
              "      <th>X18</th>\n",
              "      <th>X19</th>\n",
              "      <th>X20</th>\n",
              "      <th>X21</th>\n",
              "      <th>X22</th>\n",
              "      <th>X23</th>\n",
              "      <th>Y</th>\n",
              "    </tr>\n",
              "  </thead>\n",
              "  <tbody>\n",
              "    <tr>\n",
              "      <th>count</th>\n",
              "      <td>30000.000000</td>\n",
              "      <td>30000.000000</td>\n",
              "      <td>30000.000000</td>\n",
              "      <td>30000.000000</td>\n",
              "      <td>30000.000000</td>\n",
              "      <td>30000.000000</td>\n",
              "      <td>30000.000000</td>\n",
              "      <td>30000.000000</td>\n",
              "      <td>30000.000000</td>\n",
              "      <td>30000.000000</td>\n",
              "      <td>30000.000000</td>\n",
              "      <td>30000.000000</td>\n",
              "      <td>30000.000000</td>\n",
              "      <td>3.000000e+04</td>\n",
              "      <td>30000.000000</td>\n",
              "      <td>30000.000000</td>\n",
              "      <td>30000.000000</td>\n",
              "      <td>30000.000000</td>\n",
              "      <td>3.000000e+04</td>\n",
              "      <td>30000.00000</td>\n",
              "      <td>30000.000000</td>\n",
              "      <td>30000.000000</td>\n",
              "      <td>30000.000000</td>\n",
              "      <td>30000.000000</td>\n",
              "    </tr>\n",
              "    <tr>\n",
              "      <th>mean</th>\n",
              "      <td>167484.322667</td>\n",
              "      <td>1.603733</td>\n",
              "      <td>1.853133</td>\n",
              "      <td>1.551867</td>\n",
              "      <td>35.485500</td>\n",
              "      <td>-0.016700</td>\n",
              "      <td>-0.133767</td>\n",
              "      <td>-0.166200</td>\n",
              "      <td>-0.220667</td>\n",
              "      <td>-0.266200</td>\n",
              "      <td>-0.291100</td>\n",
              "      <td>51223.330900</td>\n",
              "      <td>49179.075167</td>\n",
              "      <td>4.701315e+04</td>\n",
              "      <td>43262.948967</td>\n",
              "      <td>40311.400967</td>\n",
              "      <td>38871.760400</td>\n",
              "      <td>5663.580500</td>\n",
              "      <td>5.921163e+03</td>\n",
              "      <td>5225.68150</td>\n",
              "      <td>4826.076867</td>\n",
              "      <td>4799.387633</td>\n",
              "      <td>5215.502567</td>\n",
              "      <td>0.221200</td>\n",
              "    </tr>\n",
              "    <tr>\n",
              "      <th>std</th>\n",
              "      <td>129747.661567</td>\n",
              "      <td>0.489129</td>\n",
              "      <td>0.790349</td>\n",
              "      <td>0.521970</td>\n",
              "      <td>9.217904</td>\n",
              "      <td>1.123802</td>\n",
              "      <td>1.197186</td>\n",
              "      <td>1.196868</td>\n",
              "      <td>1.169139</td>\n",
              "      <td>1.133187</td>\n",
              "      <td>1.149988</td>\n",
              "      <td>73635.860576</td>\n",
              "      <td>71173.768783</td>\n",
              "      <td>6.934939e+04</td>\n",
              "      <td>64332.856134</td>\n",
              "      <td>60797.155770</td>\n",
              "      <td>59554.107537</td>\n",
              "      <td>16563.280354</td>\n",
              "      <td>2.304087e+04</td>\n",
              "      <td>17606.96147</td>\n",
              "      <td>15666.159744</td>\n",
              "      <td>15278.305679</td>\n",
              "      <td>17777.465775</td>\n",
              "      <td>0.415062</td>\n",
              "    </tr>\n",
              "    <tr>\n",
              "      <th>min</th>\n",
              "      <td>10000.000000</td>\n",
              "      <td>1.000000</td>\n",
              "      <td>0.000000</td>\n",
              "      <td>0.000000</td>\n",
              "      <td>21.000000</td>\n",
              "      <td>-2.000000</td>\n",
              "      <td>-2.000000</td>\n",
              "      <td>-2.000000</td>\n",
              "      <td>-2.000000</td>\n",
              "      <td>-2.000000</td>\n",
              "      <td>-2.000000</td>\n",
              "      <td>-165580.000000</td>\n",
              "      <td>-69777.000000</td>\n",
              "      <td>-1.572640e+05</td>\n",
              "      <td>-170000.000000</td>\n",
              "      <td>-81334.000000</td>\n",
              "      <td>-339603.000000</td>\n",
              "      <td>0.000000</td>\n",
              "      <td>0.000000e+00</td>\n",
              "      <td>0.00000</td>\n",
              "      <td>0.000000</td>\n",
              "      <td>0.000000</td>\n",
              "      <td>0.000000</td>\n",
              "      <td>0.000000</td>\n",
              "    </tr>\n",
              "    <tr>\n",
              "      <th>25%</th>\n",
              "      <td>50000.000000</td>\n",
              "      <td>1.000000</td>\n",
              "      <td>1.000000</td>\n",
              "      <td>1.000000</td>\n",
              "      <td>28.000000</td>\n",
              "      <td>-1.000000</td>\n",
              "      <td>-1.000000</td>\n",
              "      <td>-1.000000</td>\n",
              "      <td>-1.000000</td>\n",
              "      <td>-1.000000</td>\n",
              "      <td>-1.000000</td>\n",
              "      <td>3558.750000</td>\n",
              "      <td>2984.750000</td>\n",
              "      <td>2.666250e+03</td>\n",
              "      <td>2326.750000</td>\n",
              "      <td>1763.000000</td>\n",
              "      <td>1256.000000</td>\n",
              "      <td>1000.000000</td>\n",
              "      <td>8.330000e+02</td>\n",
              "      <td>390.00000</td>\n",
              "      <td>296.000000</td>\n",
              "      <td>252.500000</td>\n",
              "      <td>117.750000</td>\n",
              "      <td>0.000000</td>\n",
              "    </tr>\n",
              "    <tr>\n",
              "      <th>50%</th>\n",
              "      <td>140000.000000</td>\n",
              "      <td>2.000000</td>\n",
              "      <td>2.000000</td>\n",
              "      <td>2.000000</td>\n",
              "      <td>34.000000</td>\n",
              "      <td>0.000000</td>\n",
              "      <td>0.000000</td>\n",
              "      <td>0.000000</td>\n",
              "      <td>0.000000</td>\n",
              "      <td>0.000000</td>\n",
              "      <td>0.000000</td>\n",
              "      <td>22381.500000</td>\n",
              "      <td>21200.000000</td>\n",
              "      <td>2.008850e+04</td>\n",
              "      <td>19052.000000</td>\n",
              "      <td>18104.500000</td>\n",
              "      <td>17071.000000</td>\n",
              "      <td>2100.000000</td>\n",
              "      <td>2.009000e+03</td>\n",
              "      <td>1800.00000</td>\n",
              "      <td>1500.000000</td>\n",
              "      <td>1500.000000</td>\n",
              "      <td>1500.000000</td>\n",
              "      <td>0.000000</td>\n",
              "    </tr>\n",
              "    <tr>\n",
              "      <th>75%</th>\n",
              "      <td>240000.000000</td>\n",
              "      <td>2.000000</td>\n",
              "      <td>2.000000</td>\n",
              "      <td>2.000000</td>\n",
              "      <td>41.000000</td>\n",
              "      <td>0.000000</td>\n",
              "      <td>0.000000</td>\n",
              "      <td>0.000000</td>\n",
              "      <td>0.000000</td>\n",
              "      <td>0.000000</td>\n",
              "      <td>0.000000</td>\n",
              "      <td>67091.000000</td>\n",
              "      <td>64006.250000</td>\n",
              "      <td>6.016475e+04</td>\n",
              "      <td>54506.000000</td>\n",
              "      <td>50190.500000</td>\n",
              "      <td>49198.250000</td>\n",
              "      <td>5006.000000</td>\n",
              "      <td>5.000000e+03</td>\n",
              "      <td>4505.00000</td>\n",
              "      <td>4013.250000</td>\n",
              "      <td>4031.500000</td>\n",
              "      <td>4000.000000</td>\n",
              "      <td>0.000000</td>\n",
              "    </tr>\n",
              "    <tr>\n",
              "      <th>max</th>\n",
              "      <td>1000000.000000</td>\n",
              "      <td>2.000000</td>\n",
              "      <td>6.000000</td>\n",
              "      <td>3.000000</td>\n",
              "      <td>79.000000</td>\n",
              "      <td>8.000000</td>\n",
              "      <td>8.000000</td>\n",
              "      <td>8.000000</td>\n",
              "      <td>8.000000</td>\n",
              "      <td>8.000000</td>\n",
              "      <td>8.000000</td>\n",
              "      <td>964511.000000</td>\n",
              "      <td>983931.000000</td>\n",
              "      <td>1.664089e+06</td>\n",
              "      <td>891586.000000</td>\n",
              "      <td>927171.000000</td>\n",
              "      <td>961664.000000</td>\n",
              "      <td>873552.000000</td>\n",
              "      <td>1.684259e+06</td>\n",
              "      <td>896040.00000</td>\n",
              "      <td>621000.000000</td>\n",
              "      <td>426529.000000</td>\n",
              "      <td>528666.000000</td>\n",
              "      <td>1.000000</td>\n",
              "    </tr>\n",
              "  </tbody>\n",
              "</table>\n",
              "</div>"
            ],
            "text/plain": [
              "                   X1            X2  ...            X23             Y\n",
              "count    30000.000000  30000.000000  ...   30000.000000  30000.000000\n",
              "mean    167484.322667      1.603733  ...    5215.502567      0.221200\n",
              "std     129747.661567      0.489129  ...   17777.465775      0.415062\n",
              "min      10000.000000      1.000000  ...       0.000000      0.000000\n",
              "25%      50000.000000      1.000000  ...     117.750000      0.000000\n",
              "50%     140000.000000      2.000000  ...    1500.000000      0.000000\n",
              "75%     240000.000000      2.000000  ...    4000.000000      0.000000\n",
              "max    1000000.000000      2.000000  ...  528666.000000      1.000000\n",
              "\n",
              "[8 rows x 24 columns]"
            ]
          },
          "metadata": {
            "tags": []
          },
          "execution_count": 4
        }
      ]
    },
    {
      "cell_type": "code",
      "metadata": {
        "colab": {
          "base_uri": "https://localhost:8080/"
        },
        "id": "RSZC305iGI3j",
        "outputId": "0b8ca879-f371-41cc-cc00-7712eafd82bc"
      },
      "source": [
        "data['Y'].value_counts()\n"
      ],
      "execution_count": null,
      "outputs": [
        {
          "output_type": "execute_result",
          "data": {
            "text/plain": [
              "0    23364\n",
              "1     6636\n",
              "Name: Y, dtype: int64"
            ]
          },
          "metadata": {
            "tags": []
          },
          "execution_count": 5
        }
      ]
    },
    {
      "cell_type": "markdown",
      "metadata": {
        "id": "A1UrjrJNYZBm"
      },
      "source": [
        "Target is unbalanced, approximately 22% of the records defaulted on their payment."
      ]
    },
    {
      "cell_type": "code",
      "metadata": {
        "colab": {
          "base_uri": "https://localhost:8080/"
        },
        "id": "FEecmQQjEv0H",
        "outputId": "53cbf2e4-20e7-4068-f177-15064dff3033"
      },
      "source": [
        "data['X2'].value_counts().sort_index()"
      ],
      "execution_count": null,
      "outputs": [
        {
          "output_type": "execute_result",
          "data": {
            "text/plain": [
              "1    11888\n",
              "2    18112\n",
              "Name: X2, dtype: int64"
            ]
          },
          "metadata": {
            "tags": []
          },
          "execution_count": 6
        }
      ]
    },
    {
      "cell_type": "code",
      "metadata": {
        "colab": {
          "base_uri": "https://localhost:8080/"
        },
        "id": "MBjoKrRVebXy",
        "outputId": "985f2056-83de-4156-9f8d-e490668a8072"
      },
      "source": [
        "data['X3'].value_counts().sort_index()"
      ],
      "execution_count": null,
      "outputs": [
        {
          "output_type": "execute_result",
          "data": {
            "text/plain": [
              "0       14\n",
              "1    10585\n",
              "2    14030\n",
              "3     4917\n",
              "4      123\n",
              "5      280\n",
              "6       51\n",
              "Name: X3, dtype: int64"
            ]
          },
          "metadata": {
            "tags": []
          },
          "execution_count": 7
        }
      ]
    },
    {
      "cell_type": "markdown",
      "metadata": {
        "id": "V1YnKgJ5etaY"
      },
      "source": [
        "X3: Education (1 = graduate school; 2 = university; 3 = high school; 4 = others)\n",
        "\n",
        "There are a few values outside of the described values for X3: Education. Records with 0, 5, 6 will be reclassified as other."
      ]
    },
    {
      "cell_type": "code",
      "metadata": {
        "colab": {
          "base_uri": "https://localhost:8080/"
        },
        "id": "p-bwr8LHE2Id",
        "outputId": "6981cdec-b358-4236-8156-2632263fe6e1"
      },
      "source": [
        "edu_other = (data['X3'] == 0) | (data['X3'] > 4)\n",
        "data.loc[edu_other, 'X3'] = 4\n",
        "data['X3'].value_counts().sort_index()"
      ],
      "execution_count": null,
      "outputs": [
        {
          "output_type": "execute_result",
          "data": {
            "text/plain": [
              "1    10585\n",
              "2    14030\n",
              "3     4917\n",
              "4      468\n",
              "Name: X3, dtype: int64"
            ]
          },
          "metadata": {
            "tags": []
          },
          "execution_count": 8
        }
      ]
    },
    {
      "cell_type": "markdown",
      "metadata": {
        "id": "T-mWZoEulTy5"
      },
      "source": [
        "X4: Marital Status (1 = married; 2 = single; 3 = others). Zero will be classified as 3: other."
      ]
    },
    {
      "cell_type": "code",
      "metadata": {
        "colab": {
          "base_uri": "https://localhost:8080/"
        },
        "id": "Q1dojPB4lXWm",
        "outputId": "dcf8535a-e969-48e0-a0b3-61fecd7a6962"
      },
      "source": [
        "data['X4'].value_counts().sort_index()"
      ],
      "execution_count": null,
      "outputs": [
        {
          "output_type": "execute_result",
          "data": {
            "text/plain": [
              "0       54\n",
              "1    13659\n",
              "2    15964\n",
              "3      323\n",
              "Name: X4, dtype: int64"
            ]
          },
          "metadata": {
            "tags": []
          },
          "execution_count": 9
        }
      ]
    },
    {
      "cell_type": "code",
      "metadata": {
        "colab": {
          "base_uri": "https://localhost:8080/"
        },
        "id": "9JNQcMCel0AW",
        "outputId": "80e0029f-1f3c-475c-90b3-bb348f618edb"
      },
      "source": [
        "marriage_other = (data['X4'] == 0)\n",
        "data.loc[marriage_other, 'X4'] = 3\n",
        "data['X4'].value_counts().sort_index()"
      ],
      "execution_count": null,
      "outputs": [
        {
          "output_type": "execute_result",
          "data": {
            "text/plain": [
              "1    13659\n",
              "2    15964\n",
              "3      377\n",
              "Name: X4, dtype: int64"
            ]
          },
          "metadata": {
            "tags": []
          },
          "execution_count": 10
        }
      ]
    },
    {
      "cell_type": "markdown",
      "metadata": {
        "id": "i2pMFMgDxV0t"
      },
      "source": [
        "#### Cleaning X6 - X11\n",
        "In these features, -1 is an on-time payment and a value greater than 0 is late by that number of months. Each of these features has values less than -1 and 0. I am assuming that these are duly paid and will change the values to -1."
      ]
    },
    {
      "cell_type": "code",
      "metadata": {
        "colab": {
          "base_uri": "https://localhost:8080/",
          "height": 294
        },
        "id": "bY3EStLhxzS6",
        "outputId": "adb6d574-e345-4676-dbf4-8c7af831a42b"
      },
      "source": [
        "df = data.iloc[:,5:11]\n",
        "df.describe()"
      ],
      "execution_count": null,
      "outputs": [
        {
          "output_type": "execute_result",
          "data": {
            "text/html": [
              "<div>\n",
              "<style scoped>\n",
              "    .dataframe tbody tr th:only-of-type {\n",
              "        vertical-align: middle;\n",
              "    }\n",
              "\n",
              "    .dataframe tbody tr th {\n",
              "        vertical-align: top;\n",
              "    }\n",
              "\n",
              "    .dataframe thead th {\n",
              "        text-align: right;\n",
              "    }\n",
              "</style>\n",
              "<table border=\"1\" class=\"dataframe\">\n",
              "  <thead>\n",
              "    <tr style=\"text-align: right;\">\n",
              "      <th></th>\n",
              "      <th>X6</th>\n",
              "      <th>X7</th>\n",
              "      <th>X8</th>\n",
              "      <th>X9</th>\n",
              "      <th>X10</th>\n",
              "      <th>X11</th>\n",
              "    </tr>\n",
              "  </thead>\n",
              "  <tbody>\n",
              "    <tr>\n",
              "      <th>count</th>\n",
              "      <td>30000.000000</td>\n",
              "      <td>30000.000000</td>\n",
              "      <td>30000.000000</td>\n",
              "      <td>30000.000000</td>\n",
              "      <td>30000.000000</td>\n",
              "      <td>30000.000000</td>\n",
              "    </tr>\n",
              "    <tr>\n",
              "      <th>mean</th>\n",
              "      <td>-0.016700</td>\n",
              "      <td>-0.133767</td>\n",
              "      <td>-0.166200</td>\n",
              "      <td>-0.220667</td>\n",
              "      <td>-0.266200</td>\n",
              "      <td>-0.291100</td>\n",
              "    </tr>\n",
              "    <tr>\n",
              "      <th>std</th>\n",
              "      <td>1.123802</td>\n",
              "      <td>1.197186</td>\n",
              "      <td>1.196868</td>\n",
              "      <td>1.169139</td>\n",
              "      <td>1.133187</td>\n",
              "      <td>1.149988</td>\n",
              "    </tr>\n",
              "    <tr>\n",
              "      <th>min</th>\n",
              "      <td>-2.000000</td>\n",
              "      <td>-2.000000</td>\n",
              "      <td>-2.000000</td>\n",
              "      <td>-2.000000</td>\n",
              "      <td>-2.000000</td>\n",
              "      <td>-2.000000</td>\n",
              "    </tr>\n",
              "    <tr>\n",
              "      <th>25%</th>\n",
              "      <td>-1.000000</td>\n",
              "      <td>-1.000000</td>\n",
              "      <td>-1.000000</td>\n",
              "      <td>-1.000000</td>\n",
              "      <td>-1.000000</td>\n",
              "      <td>-1.000000</td>\n",
              "    </tr>\n",
              "    <tr>\n",
              "      <th>50%</th>\n",
              "      <td>0.000000</td>\n",
              "      <td>0.000000</td>\n",
              "      <td>0.000000</td>\n",
              "      <td>0.000000</td>\n",
              "      <td>0.000000</td>\n",
              "      <td>0.000000</td>\n",
              "    </tr>\n",
              "    <tr>\n",
              "      <th>75%</th>\n",
              "      <td>0.000000</td>\n",
              "      <td>0.000000</td>\n",
              "      <td>0.000000</td>\n",
              "      <td>0.000000</td>\n",
              "      <td>0.000000</td>\n",
              "      <td>0.000000</td>\n",
              "    </tr>\n",
              "    <tr>\n",
              "      <th>max</th>\n",
              "      <td>8.000000</td>\n",
              "      <td>8.000000</td>\n",
              "      <td>8.000000</td>\n",
              "      <td>8.000000</td>\n",
              "      <td>8.000000</td>\n",
              "      <td>8.000000</td>\n",
              "    </tr>\n",
              "  </tbody>\n",
              "</table>\n",
              "</div>"
            ],
            "text/plain": [
              "                 X6            X7  ...           X10           X11\n",
              "count  30000.000000  30000.000000  ...  30000.000000  30000.000000\n",
              "mean      -0.016700     -0.133767  ...     -0.266200     -0.291100\n",
              "std        1.123802      1.197186  ...      1.133187      1.149988\n",
              "min       -2.000000     -2.000000  ...     -2.000000     -2.000000\n",
              "25%       -1.000000     -1.000000  ...     -1.000000     -1.000000\n",
              "50%        0.000000      0.000000  ...      0.000000      0.000000\n",
              "75%        0.000000      0.000000  ...      0.000000      0.000000\n",
              "max        8.000000      8.000000  ...      8.000000      8.000000\n",
              "\n",
              "[8 rows x 6 columns]"
            ]
          },
          "metadata": {
            "tags": []
          },
          "execution_count": 11
        }
      ]
    },
    {
      "cell_type": "code",
      "metadata": {
        "colab": {
          "base_uri": "https://localhost:8080/",
          "height": 294
        },
        "id": "VltW4aXsyqVG",
        "outputId": "b0f88b6a-750c-4c01-c48f-8e1a006bc7f0"
      },
      "source": [
        "cols = ['X6', 'X7', 'X8', 'X9', 'X10', 'X11']\n",
        "for col in cols:\n",
        "  val_change = (data[col] < -1) | (data[col] == 0)\n",
        "  data.loc[val_change, col] = -1\n",
        "\n",
        "df = data.iloc[:,5:11]\n",
        "df.describe()\n",
        "\n"
      ],
      "execution_count": null,
      "outputs": [
        {
          "output_type": "execute_result",
          "data": {
            "text/html": [
              "<div>\n",
              "<style scoped>\n",
              "    .dataframe tbody tr th:only-of-type {\n",
              "        vertical-align: middle;\n",
              "    }\n",
              "\n",
              "    .dataframe tbody tr th {\n",
              "        vertical-align: top;\n",
              "    }\n",
              "\n",
              "    .dataframe thead th {\n",
              "        text-align: right;\n",
              "    }\n",
              "</style>\n",
              "<table border=\"1\" class=\"dataframe\">\n",
              "  <thead>\n",
              "    <tr style=\"text-align: right;\">\n",
              "      <th></th>\n",
              "      <th>X6</th>\n",
              "      <th>X7</th>\n",
              "      <th>X8</th>\n",
              "      <th>X9</th>\n",
              "      <th>X10</th>\n",
              "      <th>X11</th>\n",
              "    </tr>\n",
              "  </thead>\n",
              "  <tbody>\n",
              "    <tr>\n",
              "      <th>count</th>\n",
              "      <td>30000.000000</td>\n",
              "      <td>30000.000000</td>\n",
              "      <td>30000.000000</td>\n",
              "      <td>30000.000000</td>\n",
              "      <td>30000.000000</td>\n",
              "      <td>30000.000000</td>\n",
              "    </tr>\n",
              "    <tr>\n",
              "      <th>mean</th>\n",
              "      <td>-0.415967</td>\n",
              "      <td>-0.532033</td>\n",
              "      <td>-0.555500</td>\n",
              "      <td>-0.624233</td>\n",
              "      <td>-0.679567</td>\n",
              "      <td>-0.670800</td>\n",
              "    </tr>\n",
              "    <tr>\n",
              "      <th>std</th>\n",
              "      <td>1.142591</td>\n",
              "      <td>1.146393</td>\n",
              "      <td>1.126275</td>\n",
              "      <td>1.067522</td>\n",
              "      <td>1.001726</td>\n",
              "      <td>1.005283</td>\n",
              "    </tr>\n",
              "    <tr>\n",
              "      <th>min</th>\n",
              "      <td>-1.000000</td>\n",
              "      <td>-1.000000</td>\n",
              "      <td>-1.000000</td>\n",
              "      <td>-1.000000</td>\n",
              "      <td>-1.000000</td>\n",
              "      <td>-1.000000</td>\n",
              "    </tr>\n",
              "    <tr>\n",
              "      <th>25%</th>\n",
              "      <td>-1.000000</td>\n",
              "      <td>-1.000000</td>\n",
              "      <td>-1.000000</td>\n",
              "      <td>-1.000000</td>\n",
              "      <td>-1.000000</td>\n",
              "      <td>-1.000000</td>\n",
              "    </tr>\n",
              "    <tr>\n",
              "      <th>50%</th>\n",
              "      <td>-1.000000</td>\n",
              "      <td>-1.000000</td>\n",
              "      <td>-1.000000</td>\n",
              "      <td>-1.000000</td>\n",
              "      <td>-1.000000</td>\n",
              "      <td>-1.000000</td>\n",
              "    </tr>\n",
              "    <tr>\n",
              "      <th>75%</th>\n",
              "      <td>-1.000000</td>\n",
              "      <td>-1.000000</td>\n",
              "      <td>-1.000000</td>\n",
              "      <td>-1.000000</td>\n",
              "      <td>-1.000000</td>\n",
              "      <td>-1.000000</td>\n",
              "    </tr>\n",
              "    <tr>\n",
              "      <th>max</th>\n",
              "      <td>8.000000</td>\n",
              "      <td>8.000000</td>\n",
              "      <td>8.000000</td>\n",
              "      <td>8.000000</td>\n",
              "      <td>8.000000</td>\n",
              "      <td>8.000000</td>\n",
              "    </tr>\n",
              "  </tbody>\n",
              "</table>\n",
              "</div>"
            ],
            "text/plain": [
              "                 X6            X7  ...           X10           X11\n",
              "count  30000.000000  30000.000000  ...  30000.000000  30000.000000\n",
              "mean      -0.415967     -0.532033  ...     -0.679567     -0.670800\n",
              "std        1.142591      1.146393  ...      1.001726      1.005283\n",
              "min       -1.000000     -1.000000  ...     -1.000000     -1.000000\n",
              "25%       -1.000000     -1.000000  ...     -1.000000     -1.000000\n",
              "50%       -1.000000     -1.000000  ...     -1.000000     -1.000000\n",
              "75%       -1.000000     -1.000000  ...     -1.000000     -1.000000\n",
              "max        8.000000      8.000000  ...      8.000000      8.000000\n",
              "\n",
              "[8 rows x 6 columns]"
            ]
          },
          "metadata": {
            "tags": []
          },
          "execution_count": 12
        }
      ]
    },
    {
      "cell_type": "markdown",
      "metadata": {
        "id": "4MxEdWiAsB0o"
      },
      "source": [
        "### Categorical Features and Target\n"
      ]
    },
    {
      "cell_type": "markdown",
      "metadata": {
        "id": "I98UFcGqH94S"
      },
      "source": [
        "#### Gender"
      ]
    },
    {
      "cell_type": "code",
      "metadata": {
        "colab": {
          "base_uri": "https://localhost:8080/",
          "height": 141
        },
        "id": "aY--bzZ3sIUG",
        "outputId": "c6462c53-bd7d-4b30-dae4-bf220e9028d8"
      },
      "source": [
        "pd.crosstab(data['X2'],\n",
        "            data['Y'])\n"
      ],
      "execution_count": null,
      "outputs": [
        {
          "output_type": "execute_result",
          "data": {
            "text/html": [
              "<div>\n",
              "<style scoped>\n",
              "    .dataframe tbody tr th:only-of-type {\n",
              "        vertical-align: middle;\n",
              "    }\n",
              "\n",
              "    .dataframe tbody tr th {\n",
              "        vertical-align: top;\n",
              "    }\n",
              "\n",
              "    .dataframe thead th {\n",
              "        text-align: right;\n",
              "    }\n",
              "</style>\n",
              "<table border=\"1\" class=\"dataframe\">\n",
              "  <thead>\n",
              "    <tr style=\"text-align: right;\">\n",
              "      <th>Y</th>\n",
              "      <th>0</th>\n",
              "      <th>1</th>\n",
              "    </tr>\n",
              "    <tr>\n",
              "      <th>X2</th>\n",
              "      <th></th>\n",
              "      <th></th>\n",
              "    </tr>\n",
              "  </thead>\n",
              "  <tbody>\n",
              "    <tr>\n",
              "      <th>1</th>\n",
              "      <td>9015</td>\n",
              "      <td>2873</td>\n",
              "    </tr>\n",
              "    <tr>\n",
              "      <th>2</th>\n",
              "      <td>14349</td>\n",
              "      <td>3763</td>\n",
              "    </tr>\n",
              "  </tbody>\n",
              "</table>\n",
              "</div>"
            ],
            "text/plain": [
              "Y       0     1\n",
              "X2             \n",
              "1    9015  2873\n",
              "2   14349  3763"
            ]
          },
          "metadata": {
            "tags": []
          },
          "execution_count": 13
        }
      ]
    },
    {
      "cell_type": "code",
      "metadata": {
        "colab": {
          "base_uri": "https://localhost:8080/",
          "height": 276
        },
        "id": "iTybC8kMEglw",
        "outputId": "20977095-e2bd-44b0-dde8-a703cf4b6da7"
      },
      "source": [
        "data.groupby(['X2', 'Y']).size().unstack().plot(kind='bar')\n",
        "plt.xlabel(\"Gender (1=Male, 2=Female)\")\n",
        "plt.ylabel(\"Frequency\")\n",
        "plt.legend\n",
        "plt.show()"
      ],
      "execution_count": null,
      "outputs": [
        {
          "output_type": "display_data",
          "data": {
            "image/png": "[encoded data removed]",
            "text/plain": [
              "<Figure size 432x288 with 1 Axes>"
            ]
          },
          "metadata": {
            "tags": [],
            "needs_background": "light"
          }
        }
      ]
    },
    {
      "cell_type": "code",
      "metadata": {
        "colab": {
          "base_uri": "https://localhost:8080/",
          "height": 141
        },
        "id": "Bi9yP4oyGYHd",
        "outputId": "c3bfd073-5d73-4b67-de70-4cecdd216c1e"
      },
      "source": [
        "data[['X2', 'Y']].groupby('X2').mean().sort_values(by='Y')"
      ],
      "execution_count": null,
      "outputs": [
        {
          "output_type": "execute_result",
          "data": {
            "text/html": [
              "<div>\n",
              "<style scoped>\n",
              "    .dataframe tbody tr th:only-of-type {\n",
              "        vertical-align: middle;\n",
              "    }\n",
              "\n",
              "    .dataframe tbody tr th {\n",
              "        vertical-align: top;\n",
              "    }\n",
              "\n",
              "    .dataframe thead th {\n",
              "        text-align: right;\n",
              "    }\n",
              "</style>\n",
              "<table border=\"1\" class=\"dataframe\">\n",
              "  <thead>\n",
              "    <tr style=\"text-align: right;\">\n",
              "      <th></th>\n",
              "      <th>Y</th>\n",
              "    </tr>\n",
              "    <tr>\n",
              "      <th>X2</th>\n",
              "      <th></th>\n",
              "    </tr>\n",
              "  </thead>\n",
              "  <tbody>\n",
              "    <tr>\n",
              "      <th>2</th>\n",
              "      <td>0.207763</td>\n",
              "    </tr>\n",
              "    <tr>\n",
              "      <th>1</th>\n",
              "      <td>0.241672</td>\n",
              "    </tr>\n",
              "  </tbody>\n",
              "</table>\n",
              "</div>"
            ],
            "text/plain": [
              "           Y\n",
              "X2          \n",
              "2   0.207763\n",
              "1   0.241672"
            ]
          },
          "metadata": {
            "tags": []
          },
          "execution_count": 15
        }
      ]
    },
    {
      "cell_type": "markdown",
      "metadata": {
        "id": "YexF5io7vmoW"
      },
      "source": [
        "The overall probability of default is 0.212. \n",
        "\n",
        "$P(Default | Female) = 0.208$  \n",
        "$P(Default | Male) = 0.242$ \n",
        "\n",
        "Overall there are more defaults by females, but the probability of default is less given that the cardholder is female."
      ]
    },
    {
      "cell_type": "markdown",
      "metadata": {
        "id": "SaAE2JIkIDwF"
      },
      "source": [
        "#### Marriage"
      ]
    },
    {
      "cell_type": "code",
      "metadata": {
        "colab": {
          "base_uri": "https://localhost:8080/",
          "height": 171
        },
        "id": "_6DkmBAcH74c",
        "outputId": "06f9b8bc-09ba-4fe9-8d89-109325d7a9b2"
      },
      "source": [
        "pd.crosstab(data['X4'],\n",
        "            data['Y'])"
      ],
      "execution_count": null,
      "outputs": [
        {
          "output_type": "execute_result",
          "data": {
            "text/html": [
              "<div>\n",
              "<style scoped>\n",
              "    .dataframe tbody tr th:only-of-type {\n",
              "        vertical-align: middle;\n",
              "    }\n",
              "\n",
              "    .dataframe tbody tr th {\n",
              "        vertical-align: top;\n",
              "    }\n",
              "\n",
              "    .dataframe thead th {\n",
              "        text-align: right;\n",
              "    }\n",
              "</style>\n",
              "<table border=\"1\" class=\"dataframe\">\n",
              "  <thead>\n",
              "    <tr style=\"text-align: right;\">\n",
              "      <th>Y</th>\n",
              "      <th>0</th>\n",
              "      <th>1</th>\n",
              "    </tr>\n",
              "    <tr>\n",
              "      <th>X4</th>\n",
              "      <th></th>\n",
              "      <th></th>\n",
              "    </tr>\n",
              "  </thead>\n",
              "  <tbody>\n",
              "    <tr>\n",
              "      <th>1</th>\n",
              "      <td>10453</td>\n",
              "      <td>3206</td>\n",
              "    </tr>\n",
              "    <tr>\n",
              "      <th>2</th>\n",
              "      <td>12623</td>\n",
              "      <td>3341</td>\n",
              "    </tr>\n",
              "    <tr>\n",
              "      <th>3</th>\n",
              "      <td>288</td>\n",
              "      <td>89</td>\n",
              "    </tr>\n",
              "  </tbody>\n",
              "</table>\n",
              "</div>"
            ],
            "text/plain": [
              "Y       0     1\n",
              "X4             \n",
              "1   10453  3206\n",
              "2   12623  3341\n",
              "3     288    89"
            ]
          },
          "metadata": {
            "tags": []
          },
          "execution_count": 16
        }
      ]
    },
    {
      "cell_type": "code",
      "metadata": {
        "colab": {
          "base_uri": "https://localhost:8080/",
          "height": 276
        },
        "id": "i8CemX7GIjn8",
        "outputId": "0430040c-932a-409c-ed1c-1963ae1227aa"
      },
      "source": [
        "data.groupby(['X4', 'Y']).size().unstack().plot(kind='bar')\n",
        "plt.xlabel(\"Marital Status (1=Married, 2=Single, 3=Other)\")\n",
        "plt.ylabel(\"Frequency\")\n",
        "plt.legend\n",
        "plt.show()"
      ],
      "execution_count": null,
      "outputs": [
        {
          "output_type": "display_data",
          "data": {
            "image/png": "[encoded data removed]",
            "text/plain": [
              "<Figure size 432x288 with 1 Axes>"
            ]
          },
          "metadata": {
            "tags": [],
            "needs_background": "light"
          }
        }
      ]
    },
    {
      "cell_type": "code",
      "metadata": {
        "colab": {
          "base_uri": "https://localhost:8080/",
          "height": 171
        },
        "id": "cjVmknJrKt3D",
        "outputId": "a500ad24-b14b-4490-ab23-fcfe963e3c3a"
      },
      "source": [
        "data[['X4', 'Y']].groupby('X4').mean().sort_values(by='Y')"
      ],
      "execution_count": null,
      "outputs": [
        {
          "output_type": "execute_result",
          "data": {
            "text/html": [
              "<div>\n",
              "<style scoped>\n",
              "    .dataframe tbody tr th:only-of-type {\n",
              "        vertical-align: middle;\n",
              "    }\n",
              "\n",
              "    .dataframe tbody tr th {\n",
              "        vertical-align: top;\n",
              "    }\n",
              "\n",
              "    .dataframe thead th {\n",
              "        text-align: right;\n",
              "    }\n",
              "</style>\n",
              "<table border=\"1\" class=\"dataframe\">\n",
              "  <thead>\n",
              "    <tr style=\"text-align: right;\">\n",
              "      <th></th>\n",
              "      <th>Y</th>\n",
              "    </tr>\n",
              "    <tr>\n",
              "      <th>X4</th>\n",
              "      <th></th>\n",
              "    </tr>\n",
              "  </thead>\n",
              "  <tbody>\n",
              "    <tr>\n",
              "      <th>2</th>\n",
              "      <td>0.209283</td>\n",
              "    </tr>\n",
              "    <tr>\n",
              "      <th>1</th>\n",
              "      <td>0.234717</td>\n",
              "    </tr>\n",
              "    <tr>\n",
              "      <th>3</th>\n",
              "      <td>0.236074</td>\n",
              "    </tr>\n",
              "  </tbody>\n",
              "</table>\n",
              "</div>"
            ],
            "text/plain": [
              "           Y\n",
              "X4          \n",
              "2   0.209283\n",
              "1   0.234717\n",
              "3   0.236074"
            ]
          },
          "metadata": {
            "tags": []
          },
          "execution_count": 18
        }
      ]
    },
    {
      "cell_type": "markdown",
      "metadata": {
        "id": "QJlsUYXdK2HF"
      },
      "source": [
        "The probability of default given marital status is pretty similar across the board."
      ]
    },
    {
      "cell_type": "markdown",
      "metadata": {
        "id": "0rJpylbFLFwW"
      },
      "source": [
        "#### Education"
      ]
    },
    {
      "cell_type": "code",
      "metadata": {
        "colab": {
          "base_uri": "https://localhost:8080/",
          "height": 276
        },
        "id": "AYbCrYUxLKfN",
        "outputId": "2fead094-c898-4135-a60d-41bf98d48ede"
      },
      "source": [
        "data.groupby(['X3', 'Y']).size().unstack().plot(kind='bar')\n",
        "plt.xlabel(\"Education (1 = graduate school; 2 = university; 3 = high school; 4 = others)\")\n",
        "plt.ylabel(\"Frequency\")\n",
        "plt.legend\n",
        "plt.show()"
      ],
      "execution_count": null,
      "outputs": [
        {
          "output_type": "display_data",
          "data": {
            "image/png": "[encoded data removed]",
            "text/plain": [
              "<Figure size 432x288 with 1 Axes>"
            ]
          },
          "metadata": {
            "tags": [],
            "needs_background": "light"
          }
        }
      ]
    },
    {
      "cell_type": "code",
      "metadata": {
        "colab": {
          "base_uri": "https://localhost:8080/",
          "height": 202
        },
        "id": "7J-I2qWWLj2F",
        "outputId": "66866e90-368b-4e6f-e849-de87c89c9991"
      },
      "source": [
        "data[['X3', 'Y']].groupby('X3').mean().sort_values(by='Y')"
      ],
      "execution_count": null,
      "outputs": [
        {
          "output_type": "execute_result",
          "data": {
            "text/html": [
              "<div>\n",
              "<style scoped>\n",
              "    .dataframe tbody tr th:only-of-type {\n",
              "        vertical-align: middle;\n",
              "    }\n",
              "\n",
              "    .dataframe tbody tr th {\n",
              "        vertical-align: top;\n",
              "    }\n",
              "\n",
              "    .dataframe thead th {\n",
              "        text-align: right;\n",
              "    }\n",
              "</style>\n",
              "<table border=\"1\" class=\"dataframe\">\n",
              "  <thead>\n",
              "    <tr style=\"text-align: right;\">\n",
              "      <th></th>\n",
              "      <th>Y</th>\n",
              "    </tr>\n",
              "    <tr>\n",
              "      <th>X3</th>\n",
              "      <th></th>\n",
              "    </tr>\n",
              "  </thead>\n",
              "  <tbody>\n",
              "    <tr>\n",
              "      <th>4</th>\n",
              "      <td>0.070513</td>\n",
              "    </tr>\n",
              "    <tr>\n",
              "      <th>1</th>\n",
              "      <td>0.192348</td>\n",
              "    </tr>\n",
              "    <tr>\n",
              "      <th>2</th>\n",
              "      <td>0.237349</td>\n",
              "    </tr>\n",
              "    <tr>\n",
              "      <th>3</th>\n",
              "      <td>0.251576</td>\n",
              "    </tr>\n",
              "  </tbody>\n",
              "</table>\n",
              "</div>"
            ],
            "text/plain": [
              "           Y\n",
              "X3          \n",
              "4   0.070513\n",
              "1   0.192348\n",
              "2   0.237349\n",
              "3   0.251576"
            ]
          },
          "metadata": {
            "tags": []
          },
          "execution_count": 20
        }
      ]
    },
    {
      "cell_type": "markdown",
      "metadata": {
        "id": "X4KmZ49JNqom"
      },
      "source": [
        "There are some differences in the probabilites of default given education level. Cardholders with graduate school education are less likely to default than college or high school graduates."
      ]
    },
    {
      "cell_type": "markdown",
      "metadata": {
        "id": "8NoXqLIXN9zJ"
      },
      "source": [
        "#### Feature Engineering\n",
        "Look at binned ages, the comninations of marriage status and sex, education and sex.\n",
        "\n",
        "We are ready to one-hot encode and split the data."
      ]
    },
    {
      "cell_type": "code",
      "metadata": {
        "colab": {
          "base_uri": "https://localhost:8080/"
        },
        "id": "W3Nnt4_BjBcN",
        "outputId": "6f688c18-4936-4402-9da3-ea4aeb628886"
      },
      "source": [
        "data['X5'].describe()"
      ],
      "execution_count": null,
      "outputs": [
        {
          "output_type": "execute_result",
          "data": {
            "text/plain": [
              "count    30000.000000\n",
              "mean        35.485500\n",
              "std          9.217904\n",
              "min         21.000000\n",
              "25%         28.000000\n",
              "50%         34.000000\n",
              "75%         41.000000\n",
              "max         79.000000\n",
              "Name: X5, dtype: float64"
            ]
          },
          "metadata": {
            "tags": []
          },
          "execution_count": 21
        }
      ]
    },
    {
      "cell_type": "code",
      "metadata": {
        "colab": {
          "base_uri": "https://localhost:8080/",
          "height": 335
        },
        "id": "5OZ9vQGyjXRO",
        "outputId": "cd3543d9-f7a7-4501-c501-4aebabcc0448"
      },
      "source": [
        "#Age Range is 21 - 79\n",
        "plt.hist(data['X5'])"
      ],
      "execution_count": null,
      "outputs": [
        {
          "output_type": "execute_result",
          "data": {
            "text/plain": [
              "(array([5.127e+03, 8.261e+03, 6.514e+03, 4.812e+03, 2.606e+03, 1.836e+03,\n",
              "        6.280e+02, 1.710e+02, 4.000e+01, 5.000e+00]),\n",
              " array([21. , 26.8, 32.6, 38.4, 44.2, 50. , 55.8, 61.6, 67.4, 73.2, 79. ]),\n",
              " <a list of 10 Patch objects>)"
            ]
          },
          "metadata": {
            "tags": []
          },
          "execution_count": 22
        },
        {
          "output_type": "display_data",
          "data": {
            "image/png": "[encoded data removed]",
            "text/plain": [
              "<Figure size 432x288 with 1 Axes>"
            ]
          },
          "metadata": {
            "tags": [],
            "needs_background": "light"
          }
        }
      ]
    },
    {
      "cell_type": "code",
      "metadata": {
        "colab": {
          "base_uri": "https://localhost:8080/",
          "height": 317
        },
        "id": "gDKHC8QHlb-q",
        "outputId": "c8e6a610-f258-4d30-c543-6a89932d798f"
      },
      "source": [
        "#Age Range is 21 - 79\n",
        "plt.hist(data['X5'], bins=[20,30,40,50,80])"
      ],
      "execution_count": null,
      "outputs": [
        {
          "output_type": "execute_result",
          "data": {
            "text/plain": [
              "(array([ 9618., 11238.,  6464.,  2680.]),\n",
              " array([20, 30, 40, 50, 80]),\n",
              " <a list of 4 Patch objects>)"
            ]
          },
          "metadata": {
            "tags": []
          },
          "execution_count": 23
        },
        {
          "output_type": "display_data",
          "data": {
            "image/png": "[encoded data removed]",
            "text/plain": [
              "<Figure size 432x288 with 1 Axes>"
            ]
          },
          "metadata": {
            "tags": [],
            "needs_background": "light"
          }
        }
      ]
    },
    {
      "cell_type": "code",
      "metadata": {
        "colab": {
          "base_uri": "https://localhost:8080/",
          "height": 662
        },
        "id": "MMCVcf8SoPEW",
        "outputId": "938cf527-04a4-4dc3-fa4e-8960c2e0e97e"
      },
      "source": [
        "bins = [20, 29, 39, 49, 80]\n",
        "bin_names = [i for i in range(len(bins)-1)]\n",
        "data['age_bins'] = pd.cut(data['X5'], bins, labels=bin_names)\n",
        "#Binning appears as intended\n",
        "data[['X5','age_bins']].sample(20)"
      ],
      "execution_count": null,
      "outputs": [
        {
          "output_type": "execute_result",
          "data": {
            "text/html": [
              "<div>\n",
              "<style scoped>\n",
              "    .dataframe tbody tr th:only-of-type {\n",
              "        vertical-align: middle;\n",
              "    }\n",
              "\n",
              "    .dataframe tbody tr th {\n",
              "        vertical-align: top;\n",
              "    }\n",
              "\n",
              "    .dataframe thead th {\n",
              "        text-align: right;\n",
              "    }\n",
              "</style>\n",
              "<table border=\"1\" class=\"dataframe\">\n",
              "  <thead>\n",
              "    <tr style=\"text-align: right;\">\n",
              "      <th></th>\n",
              "      <th>X5</th>\n",
              "      <th>age_bins</th>\n",
              "    </tr>\n",
              "  </thead>\n",
              "  <tbody>\n",
              "    <tr>\n",
              "      <th>23882</th>\n",
              "      <td>27</td>\n",
              "      <td>0</td>\n",
              "    </tr>\n",
              "    <tr>\n",
              "      <th>26692</th>\n",
              "      <td>27</td>\n",
              "      <td>0</td>\n",
              "    </tr>\n",
              "    <tr>\n",
              "      <th>4588</th>\n",
              "      <td>43</td>\n",
              "      <td>2</td>\n",
              "    </tr>\n",
              "    <tr>\n",
              "      <th>26342</th>\n",
              "      <td>27</td>\n",
              "      <td>0</td>\n",
              "    </tr>\n",
              "    <tr>\n",
              "      <th>23099</th>\n",
              "      <td>44</td>\n",
              "      <td>2</td>\n",
              "    </tr>\n",
              "    <tr>\n",
              "      <th>826</th>\n",
              "      <td>24</td>\n",
              "      <td>0</td>\n",
              "    </tr>\n",
              "    <tr>\n",
              "      <th>6510</th>\n",
              "      <td>38</td>\n",
              "      <td>1</td>\n",
              "    </tr>\n",
              "    <tr>\n",
              "      <th>15693</th>\n",
              "      <td>29</td>\n",
              "      <td>0</td>\n",
              "    </tr>\n",
              "    <tr>\n",
              "      <th>11432</th>\n",
              "      <td>31</td>\n",
              "      <td>1</td>\n",
              "    </tr>\n",
              "    <tr>\n",
              "      <th>9538</th>\n",
              "      <td>31</td>\n",
              "      <td>1</td>\n",
              "    </tr>\n",
              "    <tr>\n",
              "      <th>14625</th>\n",
              "      <td>46</td>\n",
              "      <td>2</td>\n",
              "    </tr>\n",
              "    <tr>\n",
              "      <th>10133</th>\n",
              "      <td>45</td>\n",
              "      <td>2</td>\n",
              "    </tr>\n",
              "    <tr>\n",
              "      <th>14870</th>\n",
              "      <td>44</td>\n",
              "      <td>2</td>\n",
              "    </tr>\n",
              "    <tr>\n",
              "      <th>3415</th>\n",
              "      <td>37</td>\n",
              "      <td>1</td>\n",
              "    </tr>\n",
              "    <tr>\n",
              "      <th>29890</th>\n",
              "      <td>49</td>\n",
              "      <td>2</td>\n",
              "    </tr>\n",
              "    <tr>\n",
              "      <th>28060</th>\n",
              "      <td>47</td>\n",
              "      <td>2</td>\n",
              "    </tr>\n",
              "    <tr>\n",
              "      <th>27421</th>\n",
              "      <td>43</td>\n",
              "      <td>2</td>\n",
              "    </tr>\n",
              "    <tr>\n",
              "      <th>6895</th>\n",
              "      <td>29</td>\n",
              "      <td>0</td>\n",
              "    </tr>\n",
              "    <tr>\n",
              "      <th>2972</th>\n",
              "      <td>42</td>\n",
              "      <td>2</td>\n",
              "    </tr>\n",
              "    <tr>\n",
              "      <th>17285</th>\n",
              "      <td>47</td>\n",
              "      <td>2</td>\n",
              "    </tr>\n",
              "  </tbody>\n",
              "</table>\n",
              "</div>"
            ],
            "text/plain": [
              "       X5 age_bins\n",
              "23882  27        0\n",
              "26692  27        0\n",
              "4588   43        2\n",
              "26342  27        0\n",
              "23099  44        2\n",
              "826    24        0\n",
              "6510   38        1\n",
              "15693  29        0\n",
              "11432  31        1\n",
              "9538   31        1\n",
              "14625  46        2\n",
              "10133  45        2\n",
              "14870  44        2\n",
              "3415   37        1\n",
              "29890  49        2\n",
              "28060  47        2\n",
              "27421  43        2\n",
              "6895   29        0\n",
              "2972   42        2\n",
              "17285  47        2"
            ]
          },
          "metadata": {
            "tags": []
          },
          "execution_count": 24
        }
      ]
    },
    {
      "cell_type": "code",
      "metadata": {
        "colab": {
          "base_uri": "https://localhost:8080/",
          "height": 355
        },
        "id": "oUm0eP4UrCJc",
        "outputId": "0b31ab21-e1c3-4508-9e71-bc8347a7a5df"
      },
      "source": [
        "#Marriage by Sex Combo\n",
        "\n",
        "data['Marr_Sex'] = data.groupby(['X2', 'X4'], sort = False).ngroup()\n",
        "data[['X2', 'X4', 'Marr_Sex']].sample(10)"
      ],
      "execution_count": null,
      "outputs": [
        {
          "output_type": "execute_result",
          "data": {
            "text/html": [
              "<div>\n",
              "<style scoped>\n",
              "    .dataframe tbody tr th:only-of-type {\n",
              "        vertical-align: middle;\n",
              "    }\n",
              "\n",
              "    .dataframe tbody tr th {\n",
              "        vertical-align: top;\n",
              "    }\n",
              "\n",
              "    .dataframe thead th {\n",
              "        text-align: right;\n",
              "    }\n",
              "</style>\n",
              "<table border=\"1\" class=\"dataframe\">\n",
              "  <thead>\n",
              "    <tr style=\"text-align: right;\">\n",
              "      <th></th>\n",
              "      <th>X2</th>\n",
              "      <th>X4</th>\n",
              "      <th>Marr_Sex</th>\n",
              "    </tr>\n",
              "  </thead>\n",
              "  <tbody>\n",
              "    <tr>\n",
              "      <th>9440</th>\n",
              "      <td>2</td>\n",
              "      <td>1</td>\n",
              "      <td>0</td>\n",
              "    </tr>\n",
              "    <tr>\n",
              "      <th>20975</th>\n",
              "      <td>1</td>\n",
              "      <td>2</td>\n",
              "      <td>3</td>\n",
              "    </tr>\n",
              "    <tr>\n",
              "      <th>25713</th>\n",
              "      <td>2</td>\n",
              "      <td>2</td>\n",
              "      <td>1</td>\n",
              "    </tr>\n",
              "    <tr>\n",
              "      <th>14494</th>\n",
              "      <td>1</td>\n",
              "      <td>2</td>\n",
              "      <td>3</td>\n",
              "    </tr>\n",
              "    <tr>\n",
              "      <th>10383</th>\n",
              "      <td>2</td>\n",
              "      <td>2</td>\n",
              "      <td>1</td>\n",
              "    </tr>\n",
              "    <tr>\n",
              "      <th>3290</th>\n",
              "      <td>2</td>\n",
              "      <td>2</td>\n",
              "      <td>1</td>\n",
              "    </tr>\n",
              "    <tr>\n",
              "      <th>19411</th>\n",
              "      <td>2</td>\n",
              "      <td>1</td>\n",
              "      <td>0</td>\n",
              "    </tr>\n",
              "    <tr>\n",
              "      <th>10861</th>\n",
              "      <td>2</td>\n",
              "      <td>2</td>\n",
              "      <td>1</td>\n",
              "    </tr>\n",
              "    <tr>\n",
              "      <th>28533</th>\n",
              "      <td>2</td>\n",
              "      <td>1</td>\n",
              "      <td>0</td>\n",
              "    </tr>\n",
              "    <tr>\n",
              "      <th>7552</th>\n",
              "      <td>2</td>\n",
              "      <td>2</td>\n",
              "      <td>1</td>\n",
              "    </tr>\n",
              "  </tbody>\n",
              "</table>\n",
              "</div>"
            ],
            "text/plain": [
              "       X2  X4  Marr_Sex\n",
              "9440    2   1         0\n",
              "20975   1   2         3\n",
              "25713   2   2         1\n",
              "14494   1   2         3\n",
              "10383   2   2         1\n",
              "3290    2   2         1\n",
              "19411   2   1         0\n",
              "10861   2   2         1\n",
              "28533   2   1         0\n",
              "7552    2   2         1"
            ]
          },
          "metadata": {
            "tags": []
          },
          "execution_count": 25
        }
      ]
    },
    {
      "cell_type": "markdown",
      "metadata": {
        "id": "IKcLmkWksClJ"
      },
      "source": [
        "Marr_Sex Definitions:\n",
        "* 0 = 2-1: Female-Married\n",
        "* 1 = 2-2: Female-Single\n",
        "* 2 = 1-1: Male-Married\n",
        "* 3 = 1-2: Male-Single\n",
        "* 4 = 2-3: Female-Other\n",
        "* 5 = 1-3: Male-Other"
      ]
    },
    {
      "cell_type": "code",
      "metadata": {
        "colab": {
          "base_uri": "https://localhost:8080/",
          "height": 263
        },
        "id": "Nr-QmKDTuoPc",
        "outputId": "5388f863-8b65-4af8-9967-e1a520cdb945"
      },
      "source": [
        "pd.crosstab(data['Marr_Sex'],\n",
        "            data['Y'])"
      ],
      "execution_count": null,
      "outputs": [
        {
          "output_type": "execute_result",
          "data": {
            "text/html": [
              "<div>\n",
              "<style scoped>\n",
              "    .dataframe tbody tr th:only-of-type {\n",
              "        vertical-align: middle;\n",
              "    }\n",
              "\n",
              "    .dataframe tbody tr th {\n",
              "        vertical-align: top;\n",
              "    }\n",
              "\n",
              "    .dataframe thead th {\n",
              "        text-align: right;\n",
              "    }\n",
              "</style>\n",
              "<table border=\"1\" class=\"dataframe\">\n",
              "  <thead>\n",
              "    <tr style=\"text-align: right;\">\n",
              "      <th>Y</th>\n",
              "      <th>0</th>\n",
              "      <th>1</th>\n",
              "    </tr>\n",
              "    <tr>\n",
              "      <th>Marr_Sex</th>\n",
              "      <th></th>\n",
              "      <th></th>\n",
              "    </tr>\n",
              "  </thead>\n",
              "  <tbody>\n",
              "    <tr>\n",
              "      <th>0</th>\n",
              "      <td>6609</td>\n",
              "      <td>1860</td>\n",
              "    </tr>\n",
              "    <tr>\n",
              "      <th>1</th>\n",
              "      <td>7555</td>\n",
              "      <td>1856</td>\n",
              "    </tr>\n",
              "    <tr>\n",
              "      <th>2</th>\n",
              "      <td>3844</td>\n",
              "      <td>1346</td>\n",
              "    </tr>\n",
              "    <tr>\n",
              "      <th>3</th>\n",
              "      <td>5068</td>\n",
              "      <td>1485</td>\n",
              "    </tr>\n",
              "    <tr>\n",
              "      <th>4</th>\n",
              "      <td>185</td>\n",
              "      <td>47</td>\n",
              "    </tr>\n",
              "    <tr>\n",
              "      <th>5</th>\n",
              "      <td>103</td>\n",
              "      <td>42</td>\n",
              "    </tr>\n",
              "  </tbody>\n",
              "</table>\n",
              "</div>"
            ],
            "text/plain": [
              "Y            0     1\n",
              "Marr_Sex            \n",
              "0         6609  1860\n",
              "1         7555  1856\n",
              "2         3844  1346\n",
              "3         5068  1485\n",
              "4          185    47\n",
              "5          103    42"
            ]
          },
          "metadata": {
            "tags": []
          },
          "execution_count": 26
        }
      ]
    },
    {
      "cell_type": "code",
      "metadata": {
        "colab": {
          "base_uri": "https://localhost:8080/",
          "height": 263
        },
        "id": "fpDkfXsnu328",
        "outputId": "a00a068e-cb63-4275-b315-51fe45fa3205"
      },
      "source": [
        "data[['Marr_Sex', 'Y']].groupby('Marr_Sex').mean().sort_values(by='Marr_Sex')"
      ],
      "execution_count": null,
      "outputs": [
        {
          "output_type": "execute_result",
          "data": {
            "text/html": [
              "<div>\n",
              "<style scoped>\n",
              "    .dataframe tbody tr th:only-of-type {\n",
              "        vertical-align: middle;\n",
              "    }\n",
              "\n",
              "    .dataframe tbody tr th {\n",
              "        vertical-align: top;\n",
              "    }\n",
              "\n",
              "    .dataframe thead th {\n",
              "        text-align: right;\n",
              "    }\n",
              "</style>\n",
              "<table border=\"1\" class=\"dataframe\">\n",
              "  <thead>\n",
              "    <tr style=\"text-align: right;\">\n",
              "      <th></th>\n",
              "      <th>Y</th>\n",
              "    </tr>\n",
              "    <tr>\n",
              "      <th>Marr_Sex</th>\n",
              "      <th></th>\n",
              "    </tr>\n",
              "  </thead>\n",
              "  <tbody>\n",
              "    <tr>\n",
              "      <th>0</th>\n",
              "      <td>0.219625</td>\n",
              "    </tr>\n",
              "    <tr>\n",
              "      <th>1</th>\n",
              "      <td>0.197216</td>\n",
              "    </tr>\n",
              "    <tr>\n",
              "      <th>2</th>\n",
              "      <td>0.259345</td>\n",
              "    </tr>\n",
              "    <tr>\n",
              "      <th>3</th>\n",
              "      <td>0.226614</td>\n",
              "    </tr>\n",
              "    <tr>\n",
              "      <th>4</th>\n",
              "      <td>0.202586</td>\n",
              "    </tr>\n",
              "    <tr>\n",
              "      <th>5</th>\n",
              "      <td>0.289655</td>\n",
              "    </tr>\n",
              "  </tbody>\n",
              "</table>\n",
              "</div>"
            ],
            "text/plain": [
              "                 Y\n",
              "Marr_Sex          \n",
              "0         0.219625\n",
              "1         0.197216\n",
              "2         0.259345\n",
              "3         0.226614\n",
              "4         0.202586\n",
              "5         0.289655"
            ]
          },
          "metadata": {
            "tags": []
          },
          "execution_count": 27
        }
      ]
    },
    {
      "cell_type": "markdown",
      "metadata": {
        "id": "ezM1aDVbvGf9"
      },
      "source": [
        "Men that are not single appear to be at higher risk to default (2 and 5)"
      ]
    },
    {
      "cell_type": "code",
      "metadata": {
        "colab": {
          "base_uri": "https://localhost:8080/",
          "height": 662
        },
        "id": "zywmgo1VvWE7",
        "outputId": "1317d77c-93ad-416d-ee3e-ab031f46667b"
      },
      "source": [
        "# Sex by Education Combo\n",
        "data['Edu_Sex'] = data.groupby(['X2', 'X3'], sort = False).ngroup()\n",
        "data[['X2', 'X3', 'Edu_Sex']].sample(20)"
      ],
      "execution_count": null,
      "outputs": [
        {
          "output_type": "execute_result",
          "data": {
            "text/html": [
              "<div>\n",
              "<style scoped>\n",
              "    .dataframe tbody tr th:only-of-type {\n",
              "        vertical-align: middle;\n",
              "    }\n",
              "\n",
              "    .dataframe tbody tr th {\n",
              "        vertical-align: top;\n",
              "    }\n",
              "\n",
              "    .dataframe thead th {\n",
              "        text-align: right;\n",
              "    }\n",
              "</style>\n",
              "<table border=\"1\" class=\"dataframe\">\n",
              "  <thead>\n",
              "    <tr style=\"text-align: right;\">\n",
              "      <th></th>\n",
              "      <th>X2</th>\n",
              "      <th>X3</th>\n",
              "      <th>Edu_Sex</th>\n",
              "    </tr>\n",
              "  </thead>\n",
              "  <tbody>\n",
              "    <tr>\n",
              "      <th>21364</th>\n",
              "      <td>1</td>\n",
              "      <td>2</td>\n",
              "      <td>1</td>\n",
              "    </tr>\n",
              "    <tr>\n",
              "      <th>22371</th>\n",
              "      <td>2</td>\n",
              "      <td>2</td>\n",
              "      <td>0</td>\n",
              "    </tr>\n",
              "    <tr>\n",
              "      <th>20592</th>\n",
              "      <td>1</td>\n",
              "      <td>2</td>\n",
              "      <td>1</td>\n",
              "    </tr>\n",
              "    <tr>\n",
              "      <th>26694</th>\n",
              "      <td>1</td>\n",
              "      <td>3</td>\n",
              "      <td>4</td>\n",
              "    </tr>\n",
              "    <tr>\n",
              "      <th>18243</th>\n",
              "      <td>1</td>\n",
              "      <td>3</td>\n",
              "      <td>4</td>\n",
              "    </tr>\n",
              "    <tr>\n",
              "      <th>13413</th>\n",
              "      <td>2</td>\n",
              "      <td>2</td>\n",
              "      <td>0</td>\n",
              "    </tr>\n",
              "    <tr>\n",
              "      <th>21700</th>\n",
              "      <td>2</td>\n",
              "      <td>3</td>\n",
              "      <td>3</td>\n",
              "    </tr>\n",
              "    <tr>\n",
              "      <th>24559</th>\n",
              "      <td>1</td>\n",
              "      <td>2</td>\n",
              "      <td>1</td>\n",
              "    </tr>\n",
              "    <tr>\n",
              "      <th>16113</th>\n",
              "      <td>2</td>\n",
              "      <td>2</td>\n",
              "      <td>0</td>\n",
              "    </tr>\n",
              "    <tr>\n",
              "      <th>14529</th>\n",
              "      <td>1</td>\n",
              "      <td>3</td>\n",
              "      <td>4</td>\n",
              "    </tr>\n",
              "    <tr>\n",
              "      <th>21952</th>\n",
              "      <td>2</td>\n",
              "      <td>2</td>\n",
              "      <td>0</td>\n",
              "    </tr>\n",
              "    <tr>\n",
              "      <th>25178</th>\n",
              "      <td>2</td>\n",
              "      <td>1</td>\n",
              "      <td>5</td>\n",
              "    </tr>\n",
              "    <tr>\n",
              "      <th>22050</th>\n",
              "      <td>2</td>\n",
              "      <td>1</td>\n",
              "      <td>5</td>\n",
              "    </tr>\n",
              "    <tr>\n",
              "      <th>24608</th>\n",
              "      <td>1</td>\n",
              "      <td>1</td>\n",
              "      <td>2</td>\n",
              "    </tr>\n",
              "    <tr>\n",
              "      <th>7475</th>\n",
              "      <td>2</td>\n",
              "      <td>1</td>\n",
              "      <td>5</td>\n",
              "    </tr>\n",
              "    <tr>\n",
              "      <th>5328</th>\n",
              "      <td>2</td>\n",
              "      <td>1</td>\n",
              "      <td>5</td>\n",
              "    </tr>\n",
              "    <tr>\n",
              "      <th>15317</th>\n",
              "      <td>2</td>\n",
              "      <td>1</td>\n",
              "      <td>5</td>\n",
              "    </tr>\n",
              "    <tr>\n",
              "      <th>22322</th>\n",
              "      <td>2</td>\n",
              "      <td>1</td>\n",
              "      <td>5</td>\n",
              "    </tr>\n",
              "    <tr>\n",
              "      <th>413</th>\n",
              "      <td>2</td>\n",
              "      <td>2</td>\n",
              "      <td>0</td>\n",
              "    </tr>\n",
              "    <tr>\n",
              "      <th>19184</th>\n",
              "      <td>2</td>\n",
              "      <td>1</td>\n",
              "      <td>5</td>\n",
              "    </tr>\n",
              "  </tbody>\n",
              "</table>\n",
              "</div>"
            ],
            "text/plain": [
              "       X2  X3  Edu_Sex\n",
              "21364   1   2        1\n",
              "22371   2   2        0\n",
              "20592   1   2        1\n",
              "26694   1   3        4\n",
              "18243   1   3        4\n",
              "13413   2   2        0\n",
              "21700   2   3        3\n",
              "24559   1   2        1\n",
              "16113   2   2        0\n",
              "14529   1   3        4\n",
              "21952   2   2        0\n",
              "25178   2   1        5\n",
              "22050   2   1        5\n",
              "24608   1   1        2\n",
              "7475    2   1        5\n",
              "5328    2   1        5\n",
              "15317   2   1        5\n",
              "22322   2   1        5\n",
              "413     2   2        0\n",
              "19184   2   1        5"
            ]
          },
          "metadata": {
            "tags": []
          },
          "execution_count": 28
        }
      ]
    },
    {
      "cell_type": "markdown",
      "metadata": {
        "id": "m3kr-TYAv5zo"
      },
      "source": [
        "Edu_Sex Definitions:\n",
        "* 0 = 2-2: Female-Undergrad\n",
        "* 1 = 1-2: Male-Undergrad\n",
        "* 2 = 1-1: Male-Graduate\n",
        "* 3 = 2-3: Female-Highschool\n",
        "* 4 = 1-3: Male-Highschool\n",
        "* 5 = 2-1: Female-Graduate\n",
        "* 6 = 2-4: Female-Other\n",
        "* 7 = 1-4: Male-Other"
      ]
    },
    {
      "cell_type": "code",
      "metadata": {
        "colab": {
          "base_uri": "https://localhost:8080/",
          "height": 325
        },
        "id": "oYhdk2fSxbgw",
        "outputId": "10c07bba-2366-4b6f-d9c2-987993c36882"
      },
      "source": [
        "pd.crosstab(data['Edu_Sex'],\n",
        "            data['Y'])"
      ],
      "execution_count": null,
      "outputs": [
        {
          "output_type": "execute_result",
          "data": {
            "text/html": [
              "<div>\n",
              "<style scoped>\n",
              "    .dataframe tbody tr th:only-of-type {\n",
              "        vertical-align: middle;\n",
              "    }\n",
              "\n",
              "    .dataframe tbody tr th {\n",
              "        vertical-align: top;\n",
              "    }\n",
              "\n",
              "    .dataframe thead th {\n",
              "        text-align: right;\n",
              "    }\n",
              "</style>\n",
              "<table border=\"1\" class=\"dataframe\">\n",
              "  <thead>\n",
              "    <tr style=\"text-align: right;\">\n",
              "      <th>Y</th>\n",
              "      <th>0</th>\n",
              "      <th>1</th>\n",
              "    </tr>\n",
              "    <tr>\n",
              "      <th>Edu_Sex</th>\n",
              "      <th></th>\n",
              "      <th></th>\n",
              "    </tr>\n",
              "  </thead>\n",
              "  <tbody>\n",
              "    <tr>\n",
              "      <th>0</th>\n",
              "      <td>6734</td>\n",
              "      <td>1922</td>\n",
              "    </tr>\n",
              "    <tr>\n",
              "      <th>1</th>\n",
              "      <td>3966</td>\n",
              "      <td>1408</td>\n",
              "    </tr>\n",
              "    <tr>\n",
              "      <th>2</th>\n",
              "      <td>3448</td>\n",
              "      <td>906</td>\n",
              "    </tr>\n",
              "    <tr>\n",
              "      <th>3</th>\n",
              "      <td>2235</td>\n",
              "      <td>692</td>\n",
              "    </tr>\n",
              "    <tr>\n",
              "      <th>4</th>\n",
              "      <td>1445</td>\n",
              "      <td>545</td>\n",
              "    </tr>\n",
              "    <tr>\n",
              "      <th>5</th>\n",
              "      <td>5101</td>\n",
              "      <td>1130</td>\n",
              "    </tr>\n",
              "    <tr>\n",
              "      <th>6</th>\n",
              "      <td>279</td>\n",
              "      <td>19</td>\n",
              "    </tr>\n",
              "    <tr>\n",
              "      <th>7</th>\n",
              "      <td>156</td>\n",
              "      <td>14</td>\n",
              "    </tr>\n",
              "  </tbody>\n",
              "</table>\n",
              "</div>"
            ],
            "text/plain": [
              "Y           0     1\n",
              "Edu_Sex            \n",
              "0        6734  1922\n",
              "1        3966  1408\n",
              "2        3448   906\n",
              "3        2235   692\n",
              "4        1445   545\n",
              "5        5101  1130\n",
              "6         279    19\n",
              "7         156    14"
            ]
          },
          "metadata": {
            "tags": []
          },
          "execution_count": 29
        }
      ]
    },
    {
      "cell_type": "code",
      "metadata": {
        "colab": {
          "base_uri": "https://localhost:8080/",
          "height": 325
        },
        "id": "1_toMSyCxiK8",
        "outputId": "aed5146d-726d-4eb3-d0d2-0c4ac1abac24"
      },
      "source": [
        "data[['Edu_Sex', 'Y']].groupby('Edu_Sex').mean().sort_values(by='Edu_Sex')"
      ],
      "execution_count": null,
      "outputs": [
        {
          "output_type": "execute_result",
          "data": {
            "text/html": [
              "<div>\n",
              "<style scoped>\n",
              "    .dataframe tbody tr th:only-of-type {\n",
              "        vertical-align: middle;\n",
              "    }\n",
              "\n",
              "    .dataframe tbody tr th {\n",
              "        vertical-align: top;\n",
              "    }\n",
              "\n",
              "    .dataframe thead th {\n",
              "        text-align: right;\n",
              "    }\n",
              "</style>\n",
              "<table border=\"1\" class=\"dataframe\">\n",
              "  <thead>\n",
              "    <tr style=\"text-align: right;\">\n",
              "      <th></th>\n",
              "      <th>Y</th>\n",
              "    </tr>\n",
              "    <tr>\n",
              "      <th>Edu_Sex</th>\n",
              "      <th></th>\n",
              "    </tr>\n",
              "  </thead>\n",
              "  <tbody>\n",
              "    <tr>\n",
              "      <th>0</th>\n",
              "      <td>0.222043</td>\n",
              "    </tr>\n",
              "    <tr>\n",
              "      <th>1</th>\n",
              "      <td>0.262002</td>\n",
              "    </tr>\n",
              "    <tr>\n",
              "      <th>2</th>\n",
              "      <td>0.208085</td>\n",
              "    </tr>\n",
              "    <tr>\n",
              "      <th>3</th>\n",
              "      <td>0.236420</td>\n",
              "    </tr>\n",
              "    <tr>\n",
              "      <th>4</th>\n",
              "      <td>0.273869</td>\n",
              "    </tr>\n",
              "    <tr>\n",
              "      <th>5</th>\n",
              "      <td>0.181351</td>\n",
              "    </tr>\n",
              "    <tr>\n",
              "      <th>6</th>\n",
              "      <td>0.063758</td>\n",
              "    </tr>\n",
              "    <tr>\n",
              "      <th>7</th>\n",
              "      <td>0.082353</td>\n",
              "    </tr>\n",
              "  </tbody>\n",
              "</table>\n",
              "</div>"
            ],
            "text/plain": [
              "                Y\n",
              "Edu_Sex          \n",
              "0        0.222043\n",
              "1        0.262002\n",
              "2        0.208085\n",
              "3        0.236420\n",
              "4        0.273869\n",
              "5        0.181351\n",
              "6        0.063758\n",
              "7        0.082353"
            ]
          },
          "metadata": {
            "tags": []
          },
          "execution_count": 30
        }
      ]
    },
    {
      "cell_type": "markdown",
      "metadata": {
        "id": "-Ljdtn4bx4p4"
      },
      "source": [
        "Men with highschool or undergraduate education have a higher risk to default. People classified as having an other education have a much lower risk of default."
      ]
    },
    {
      "cell_type": "code",
      "metadata": {
        "colab": {
          "base_uri": "https://localhost:8080/",
          "height": 662
        },
        "id": "RLRick5V3Ady",
        "outputId": "61c5fa52-91ea-49d5-ce2a-4959abb662a9"
      },
      "source": [
        "\n",
        "data['credit_used'] = data['X12'] / data['X1']\n",
        "data[['X12', 'X1', 'credit_used', 'Y']].sample(20)"
      ],
      "execution_count": null,
      "outputs": [
        {
          "output_type": "execute_result",
          "data": {
            "text/html": [
              "<div>\n",
              "<style scoped>\n",
              "    .dataframe tbody tr th:only-of-type {\n",
              "        vertical-align: middle;\n",
              "    }\n",
              "\n",
              "    .dataframe tbody tr th {\n",
              "        vertical-align: top;\n",
              "    }\n",
              "\n",
              "    .dataframe thead th {\n",
              "        text-align: right;\n",
              "    }\n",
              "</style>\n",
              "<table border=\"1\" class=\"dataframe\">\n",
              "  <thead>\n",
              "    <tr style=\"text-align: right;\">\n",
              "      <th></th>\n",
              "      <th>X12</th>\n",
              "      <th>X1</th>\n",
              "      <th>credit_used</th>\n",
              "      <th>Y</th>\n",
              "    </tr>\n",
              "  </thead>\n",
              "  <tbody>\n",
              "    <tr>\n",
              "      <th>9688</th>\n",
              "      <td>56009</td>\n",
              "      <td>100000</td>\n",
              "      <td>0.560090</td>\n",
              "      <td>0</td>\n",
              "    </tr>\n",
              "    <tr>\n",
              "      <th>19278</th>\n",
              "      <td>263</td>\n",
              "      <td>50000</td>\n",
              "      <td>0.005260</td>\n",
              "      <td>0</td>\n",
              "    </tr>\n",
              "    <tr>\n",
              "      <th>19047</th>\n",
              "      <td>80903</td>\n",
              "      <td>190000</td>\n",
              "      <td>0.425805</td>\n",
              "      <td>0</td>\n",
              "    </tr>\n",
              "    <tr>\n",
              "      <th>1130</th>\n",
              "      <td>234328</td>\n",
              "      <td>230000</td>\n",
              "      <td>1.018817</td>\n",
              "      <td>1</td>\n",
              "    </tr>\n",
              "    <tr>\n",
              "      <th>4265</th>\n",
              "      <td>218570</td>\n",
              "      <td>500000</td>\n",
              "      <td>0.437140</td>\n",
              "      <td>0</td>\n",
              "    </tr>\n",
              "    <tr>\n",
              "      <th>20467</th>\n",
              "      <td>9861</td>\n",
              "      <td>10000</td>\n",
              "      <td>0.986100</td>\n",
              "      <td>0</td>\n",
              "    </tr>\n",
              "    <tr>\n",
              "      <th>22429</th>\n",
              "      <td>15349</td>\n",
              "      <td>150000</td>\n",
              "      <td>0.102327</td>\n",
              "      <td>0</td>\n",
              "    </tr>\n",
              "    <tr>\n",
              "      <th>29108</th>\n",
              "      <td>50525</td>\n",
              "      <td>50000</td>\n",
              "      <td>1.010500</td>\n",
              "      <td>1</td>\n",
              "    </tr>\n",
              "    <tr>\n",
              "      <th>9755</th>\n",
              "      <td>51028</td>\n",
              "      <td>140000</td>\n",
              "      <td>0.364486</td>\n",
              "      <td>0</td>\n",
              "    </tr>\n",
              "    <tr>\n",
              "      <th>20444</th>\n",
              "      <td>218318</td>\n",
              "      <td>140000</td>\n",
              "      <td>1.559414</td>\n",
              "      <td>0</td>\n",
              "    </tr>\n",
              "    <tr>\n",
              "      <th>11587</th>\n",
              "      <td>0</td>\n",
              "      <td>420000</td>\n",
              "      <td>0.000000</td>\n",
              "      <td>0</td>\n",
              "    </tr>\n",
              "    <tr>\n",
              "      <th>4438</th>\n",
              "      <td>27316</td>\n",
              "      <td>210000</td>\n",
              "      <td>0.130076</td>\n",
              "      <td>0</td>\n",
              "    </tr>\n",
              "    <tr>\n",
              "      <th>24815</th>\n",
              "      <td>262576</td>\n",
              "      <td>350000</td>\n",
              "      <td>0.750217</td>\n",
              "      <td>0</td>\n",
              "    </tr>\n",
              "    <tr>\n",
              "      <th>7941</th>\n",
              "      <td>9845</td>\n",
              "      <td>20000</td>\n",
              "      <td>0.492250</td>\n",
              "      <td>0</td>\n",
              "    </tr>\n",
              "    <tr>\n",
              "      <th>6376</th>\n",
              "      <td>9682</td>\n",
              "      <td>150000</td>\n",
              "      <td>0.064547</td>\n",
              "      <td>0</td>\n",
              "    </tr>\n",
              "    <tr>\n",
              "      <th>26761</th>\n",
              "      <td>18894</td>\n",
              "      <td>50000</td>\n",
              "      <td>0.377880</td>\n",
              "      <td>0</td>\n",
              "    </tr>\n",
              "    <tr>\n",
              "      <th>8932</th>\n",
              "      <td>187558</td>\n",
              "      <td>240000</td>\n",
              "      <td>0.781492</td>\n",
              "      <td>1</td>\n",
              "    </tr>\n",
              "    <tr>\n",
              "      <th>27407</th>\n",
              "      <td>8748</td>\n",
              "      <td>470000</td>\n",
              "      <td>0.018613</td>\n",
              "      <td>0</td>\n",
              "    </tr>\n",
              "    <tr>\n",
              "      <th>18618</th>\n",
              "      <td>22364</td>\n",
              "      <td>30000</td>\n",
              "      <td>0.745467</td>\n",
              "      <td>1</td>\n",
              "    </tr>\n",
              "    <tr>\n",
              "      <th>1299</th>\n",
              "      <td>10323</td>\n",
              "      <td>70000</td>\n",
              "      <td>0.147471</td>\n",
              "      <td>1</td>\n",
              "    </tr>\n",
              "  </tbody>\n",
              "</table>\n",
              "</div>"
            ],
            "text/plain": [
              "          X12      X1  credit_used  Y\n",
              "9688    56009  100000     0.560090  0\n",
              "19278     263   50000     0.005260  0\n",
              "19047   80903  190000     0.425805  0\n",
              "1130   234328  230000     1.018817  1\n",
              "4265   218570  500000     0.437140  0\n",
              "20467    9861   10000     0.986100  0\n",
              "22429   15349  150000     0.102327  0\n",
              "29108   50525   50000     1.010500  1\n",
              "9755    51028  140000     0.364486  0\n",
              "20444  218318  140000     1.559414  0\n",
              "11587       0  420000     0.000000  0\n",
              "4438    27316  210000     0.130076  0\n",
              "24815  262576  350000     0.750217  0\n",
              "7941     9845   20000     0.492250  0\n",
              "6376     9682  150000     0.064547  0\n",
              "26761   18894   50000     0.377880  0\n",
              "8932   187558  240000     0.781492  1\n",
              "27407    8748  470000     0.018613  0\n",
              "18618   22364   30000     0.745467  1\n",
              "1299    10323   70000     0.147471  1"
            ]
          },
          "metadata": {
            "tags": []
          },
          "execution_count": 31
        }
      ]
    },
    {
      "cell_type": "code",
      "metadata": {
        "id": "UOgWzRYW4GZF"
      },
      "source": [
        "#One-hot encode nominal categorical variables.\n",
        "# First I had to convert to a string, then get_dummies. The first column of each type was dropped to prevent multicolinearity\n",
        "data[['X2', 'X3', 'X4', 'age_bins', 'Marr_Sex', 'Edu_Sex']] = data[['X2', 'X3', 'X4', 'age_bins', 'Marr_Sex', 'Edu_Sex']].astype(str)\n",
        "\n",
        "data = pd.get_dummies(data, drop_first=True)"
      ],
      "execution_count": null,
      "outputs": []
    },
    {
      "cell_type": "markdown",
      "metadata": {
        "id": "nwMUbfkZJeky"
      },
      "source": [
        "##Next Steps\n",
        "### Split Data\n",
        "* Split Data 80, 20\n",
        "* Explore Upsampling and Downsampling\n",
        "  * Upsample 1s\n",
        "  * Downsample 0s\n",
        "  * Synthetic Minority Over-Sampling (SMOTE)\n",
        "    * Do you remember what lecture this was in?\n",
        "\n",
        "### Build Pipelines for different classification algos\n",
        "``` python\n",
        "pipeline = make_pipeline(\n",
        "  StandardScaler(),\n",
        "  PCA(),\n",
        "  Algo()\n",
        ")\n",
        "```\n",
        "### Grid Search\n",
        "```\n",
        "# Params to use for grid search\n",
        "grid_params = {}\n",
        "\n",
        "# Cross-Validation Grid Search\n",
        "gs = GridSearchCV((estimator = pipeline, \n",
        "                  param_grid = grid_params, \n",
        "                  scoring = 'accuracy', \n",
        "                  cv = 10, # Number of cross-folds\n",
        "                  n_jobs = -1,\n",
        "                  verbose = 0)\n",
        "\n",
        "# Perform Grid Search\n",
        "gs = gs.fit(X_train, y_train)\n",
        "print(f'Best score: {gs.best_score_ : .5f}')\n",
        "for param, value in gs.best_params_.items():\n",
        "  print(f'{param}:  {value}')\n",
        "```\n",
        "\n",
        "### Final Model Selection\n",
        "### Model Evaluation Using Test Data\n"
      ]
    },
    {
      "cell_type": "markdown",
      "metadata": {
        "id": "Nzw5iVoe91-e"
      },
      "source": [
        "## Split Data"
      ]
    },
    {
      "cell_type": "code",
      "metadata": {
        "id": "y2FCZZP08adG"
      },
      "source": [
        "# Do we drop age since we have age bins?\n",
        "X = data.loc[:, data.columns != 'Y']\n",
        "y = data['Y']"
      ],
      "execution_count": null,
      "outputs": []
    },
    {
      "cell_type": "code",
      "metadata": {
        "colab": {
          "base_uri": "https://localhost:8080/"
        },
        "id": "LvYDQoTt9Rlg",
        "outputId": "3be35fba-a6f4-4a19-e56e-c37aca5b1bc5"
      },
      "source": [
        "print (X.shape, y.shape)"
      ],
      "execution_count": null,
      "outputs": [
        {
          "output_type": "stream",
          "text": [
            "(30000, 42) (30000,)\n"
          ],
          "name": "stdout"
        }
      ]
    },
    {
      "cell_type": "code",
      "metadata": {
        "colab": {
          "base_uri": "https://localhost:8080/",
          "height": 222
        },
        "id": "ObEa6u_W9lfx",
        "outputId": "bb3671c0-1323-4cd5-888f-1a2fb2c12870"
      },
      "source": [
        "X.head()"
      ],
      "execution_count": null,
      "outputs": [
        {
          "output_type": "execute_result",
          "data": {
            "text/html": [
              "<div>\n",
              "<style scoped>\n",
              "    .dataframe tbody tr th:only-of-type {\n",
              "        vertical-align: middle;\n",
              "    }\n",
              "\n",
              "    .dataframe tbody tr th {\n",
              "        vertical-align: top;\n",
              "    }\n",
              "\n",
              "    .dataframe thead th {\n",
              "        text-align: right;\n",
              "    }\n",
              "</style>\n",
              "<table border=\"1\" class=\"dataframe\">\n",
              "  <thead>\n",
              "    <tr style=\"text-align: right;\">\n",
              "      <th></th>\n",
              "      <th>X1</th>\n",
              "      <th>X5</th>\n",
              "      <th>X6</th>\n",
              "      <th>X7</th>\n",
              "      <th>X8</th>\n",
              "      <th>X9</th>\n",
              "      <th>X10</th>\n",
              "      <th>X11</th>\n",
              "      <th>X12</th>\n",
              "      <th>X13</th>\n",
              "      <th>X14</th>\n",
              "      <th>X15</th>\n",
              "      <th>X16</th>\n",
              "      <th>X17</th>\n",
              "      <th>X18</th>\n",
              "      <th>X19</th>\n",
              "      <th>X20</th>\n",
              "      <th>X21</th>\n",
              "      <th>X22</th>\n",
              "      <th>X23</th>\n",
              "      <th>credit_used</th>\n",
              "      <th>X2_2</th>\n",
              "      <th>X3_2</th>\n",
              "      <th>X3_3</th>\n",
              "      <th>X3_4</th>\n",
              "      <th>X4_2</th>\n",
              "      <th>X4_3</th>\n",
              "      <th>age_bins_1</th>\n",
              "      <th>age_bins_2</th>\n",
              "      <th>age_bins_3</th>\n",
              "      <th>Marr_Sex_1</th>\n",
              "      <th>Marr_Sex_2</th>\n",
              "      <th>Marr_Sex_3</th>\n",
              "      <th>Marr_Sex_4</th>\n",
              "      <th>Marr_Sex_5</th>\n",
              "      <th>Edu_Sex_1</th>\n",
              "      <th>Edu_Sex_2</th>\n",
              "      <th>Edu_Sex_3</th>\n",
              "      <th>Edu_Sex_4</th>\n",
              "      <th>Edu_Sex_5</th>\n",
              "      <th>Edu_Sex_6</th>\n",
              "      <th>Edu_Sex_7</th>\n",
              "    </tr>\n",
              "  </thead>\n",
              "  <tbody>\n",
              "    <tr>\n",
              "      <th>0</th>\n",
              "      <td>20000</td>\n",
              "      <td>24</td>\n",
              "      <td>2</td>\n",
              "      <td>2</td>\n",
              "      <td>-1</td>\n",
              "      <td>-1</td>\n",
              "      <td>-1</td>\n",
              "      <td>-1</td>\n",
              "      <td>3913</td>\n",
              "      <td>3102</td>\n",
              "      <td>689</td>\n",
              "      <td>0</td>\n",
              "      <td>0</td>\n",
              "      <td>0</td>\n",
              "      <td>0</td>\n",
              "      <td>689</td>\n",
              "      <td>0</td>\n",
              "      <td>0</td>\n",
              "      <td>0</td>\n",
              "      <td>0</td>\n",
              "      <td>0.195650</td>\n",
              "      <td>1</td>\n",
              "      <td>1</td>\n",
              "      <td>0</td>\n",
              "      <td>0</td>\n",
              "      <td>0</td>\n",
              "      <td>0</td>\n",
              "      <td>0</td>\n",
              "      <td>0</td>\n",
              "      <td>0</td>\n",
              "      <td>0</td>\n",
              "      <td>0</td>\n",
              "      <td>0</td>\n",
              "      <td>0</td>\n",
              "      <td>0</td>\n",
              "      <td>0</td>\n",
              "      <td>0</td>\n",
              "      <td>0</td>\n",
              "      <td>0</td>\n",
              "      <td>0</td>\n",
              "      <td>0</td>\n",
              "      <td>0</td>\n",
              "    </tr>\n",
              "    <tr>\n",
              "      <th>1</th>\n",
              "      <td>120000</td>\n",
              "      <td>26</td>\n",
              "      <td>-1</td>\n",
              "      <td>2</td>\n",
              "      <td>-1</td>\n",
              "      <td>-1</td>\n",
              "      <td>-1</td>\n",
              "      <td>2</td>\n",
              "      <td>2682</td>\n",
              "      <td>1725</td>\n",
              "      <td>2682</td>\n",
              "      <td>3272</td>\n",
              "      <td>3455</td>\n",
              "      <td>3261</td>\n",
              "      <td>0</td>\n",
              "      <td>1000</td>\n",
              "      <td>1000</td>\n",
              "      <td>1000</td>\n",
              "      <td>0</td>\n",
              "      <td>2000</td>\n",
              "      <td>0.022350</td>\n",
              "      <td>1</td>\n",
              "      <td>1</td>\n",
              "      <td>0</td>\n",
              "      <td>0</td>\n",
              "      <td>1</td>\n",
              "      <td>0</td>\n",
              "      <td>0</td>\n",
              "      <td>0</td>\n",
              "      <td>0</td>\n",
              "      <td>1</td>\n",
              "      <td>0</td>\n",
              "      <td>0</td>\n",
              "      <td>0</td>\n",
              "      <td>0</td>\n",
              "      <td>0</td>\n",
              "      <td>0</td>\n",
              "      <td>0</td>\n",
              "      <td>0</td>\n",
              "      <td>0</td>\n",
              "      <td>0</td>\n",
              "      <td>0</td>\n",
              "    </tr>\n",
              "    <tr>\n",
              "      <th>2</th>\n",
              "      <td>90000</td>\n",
              "      <td>34</td>\n",
              "      <td>-1</td>\n",
              "      <td>-1</td>\n",
              "      <td>-1</td>\n",
              "      <td>-1</td>\n",
              "      <td>-1</td>\n",
              "      <td>-1</td>\n",
              "      <td>29239</td>\n",
              "      <td>14027</td>\n",
              "      <td>13559</td>\n",
              "      <td>14331</td>\n",
              "      <td>14948</td>\n",
              "      <td>15549</td>\n",
              "      <td>1518</td>\n",
              "      <td>1500</td>\n",
              "      <td>1000</td>\n",
              "      <td>1000</td>\n",
              "      <td>1000</td>\n",
              "      <td>5000</td>\n",
              "      <td>0.324878</td>\n",
              "      <td>1</td>\n",
              "      <td>1</td>\n",
              "      <td>0</td>\n",
              "      <td>0</td>\n",
              "      <td>1</td>\n",
              "      <td>0</td>\n",
              "      <td>1</td>\n",
              "      <td>0</td>\n",
              "      <td>0</td>\n",
              "      <td>1</td>\n",
              "      <td>0</td>\n",
              "      <td>0</td>\n",
              "      <td>0</td>\n",
              "      <td>0</td>\n",
              "      <td>0</td>\n",
              "      <td>0</td>\n",
              "      <td>0</td>\n",
              "      <td>0</td>\n",
              "      <td>0</td>\n",
              "      <td>0</td>\n",
              "      <td>0</td>\n",
              "    </tr>\n",
              "    <tr>\n",
              "      <th>3</th>\n",
              "      <td>50000</td>\n",
              "      <td>37</td>\n",
              "      <td>-1</td>\n",
              "      <td>-1</td>\n",
              "      <td>-1</td>\n",
              "      <td>-1</td>\n",
              "      <td>-1</td>\n",
              "      <td>-1</td>\n",
              "      <td>46990</td>\n",
              "      <td>48233</td>\n",
              "      <td>49291</td>\n",
              "      <td>28314</td>\n",
              "      <td>28959</td>\n",
              "      <td>29547</td>\n",
              "      <td>2000</td>\n",
              "      <td>2019</td>\n",
              "      <td>1200</td>\n",
              "      <td>1100</td>\n",
              "      <td>1069</td>\n",
              "      <td>1000</td>\n",
              "      <td>0.939800</td>\n",
              "      <td>1</td>\n",
              "      <td>1</td>\n",
              "      <td>0</td>\n",
              "      <td>0</td>\n",
              "      <td>0</td>\n",
              "      <td>0</td>\n",
              "      <td>1</td>\n",
              "      <td>0</td>\n",
              "      <td>0</td>\n",
              "      <td>0</td>\n",
              "      <td>0</td>\n",
              "      <td>0</td>\n",
              "      <td>0</td>\n",
              "      <td>0</td>\n",
              "      <td>0</td>\n",
              "      <td>0</td>\n",
              "      <td>0</td>\n",
              "      <td>0</td>\n",
              "      <td>0</td>\n",
              "      <td>0</td>\n",
              "      <td>0</td>\n",
              "    </tr>\n",
              "    <tr>\n",
              "      <th>4</th>\n",
              "      <td>50000</td>\n",
              "      <td>57</td>\n",
              "      <td>-1</td>\n",
              "      <td>-1</td>\n",
              "      <td>-1</td>\n",
              "      <td>-1</td>\n",
              "      <td>-1</td>\n",
              "      <td>-1</td>\n",
              "      <td>8617</td>\n",
              "      <td>5670</td>\n",
              "      <td>35835</td>\n",
              "      <td>20940</td>\n",
              "      <td>19146</td>\n",
              "      <td>19131</td>\n",
              "      <td>2000</td>\n",
              "      <td>36681</td>\n",
              "      <td>10000</td>\n",
              "      <td>9000</td>\n",
              "      <td>689</td>\n",
              "      <td>679</td>\n",
              "      <td>0.172340</td>\n",
              "      <td>0</td>\n",
              "      <td>1</td>\n",
              "      <td>0</td>\n",
              "      <td>0</td>\n",
              "      <td>0</td>\n",
              "      <td>0</td>\n",
              "      <td>0</td>\n",
              "      <td>0</td>\n",
              "      <td>1</td>\n",
              "      <td>0</td>\n",
              "      <td>1</td>\n",
              "      <td>0</td>\n",
              "      <td>0</td>\n",
              "      <td>0</td>\n",
              "      <td>1</td>\n",
              "      <td>0</td>\n",
              "      <td>0</td>\n",
              "      <td>0</td>\n",
              "      <td>0</td>\n",
              "      <td>0</td>\n",
              "      <td>0</td>\n",
              "    </tr>\n",
              "  </tbody>\n",
              "</table>\n",
              "</div>"
            ],
            "text/plain": [
              "       X1  X5  X6  X7  ...  Edu_Sex_4  Edu_Sex_5  Edu_Sex_6  Edu_Sex_7\n",
              "0   20000  24   2   2  ...          0          0          0          0\n",
              "1  120000  26  -1   2  ...          0          0          0          0\n",
              "2   90000  34  -1  -1  ...          0          0          0          0\n",
              "3   50000  37  -1  -1  ...          0          0          0          0\n",
              "4   50000  57  -1  -1  ...          0          0          0          0\n",
              "\n",
              "[5 rows x 42 columns]"
            ]
          },
          "metadata": {
            "tags": []
          },
          "execution_count": 35
        }
      ]
    },
    {
      "cell_type": "code",
      "metadata": {
        "id": "O4TtrxZJXShu"
      },
      "source": [
        "# ## Upsample pseudocode\n",
        "# from sklearn.utils import resample\n",
        "# X_upsampled, y_upsampled = resample(X_imb[y_imb == 1],\n",
        "#                 y_imb[y_imb == 1],/\n",
        "#                 replace=True,\n",
        "#                 n_samples=X_imb[y_imb == 0].shape[0],\n",
        "#                 random_state=123)\n",
        "\n",
        "# # Downsample pseudocode\n",
        "# X_dnsampled, y_dnsampled = resample(X_imb[y_imb == 0,\n",
        "#                 y_imb[y_imb == 0],/\n",
        "#                 replace=True,\n",
        "#                 n_samples=X_imb[y_imb == 1].shape[1],\n",
        "#                 random_state=123)"
      ],
      "execution_count": null,
      "outputs": []
    },
    {
      "cell_type": "code",
      "metadata": {
        "id": "97-6D3PFbmvR"
      },
      "source": [
        "# Split Data\n",
        "X_train, X_test, y_train, y_test = train_test_split(\n",
        "    X, y, test_size=0.2, random_state=0)\n",
        "\n"
      ],
      "execution_count": null,
      "outputs": []
    },
    {
      "cell_type": "code",
      "metadata": {
        "id": "KJLSYY6ZdQnN"
      },
      "source": [
        "## Upsample pseudocode\n",
        "from sklearn.utils import resample\n",
        "X_upsampled, y_upsampled = resample(X_train[y_train == 1],\n",
        "                y_train[y_train == 1],\n",
        "                replace=True,\n",
        "                n_samples=X_train[y_train == 0].shape[0],\n",
        "                random_state=123)\n",
        "\n",
        "X_bal_up = np.vstack((X[y == 0], X_upsampled))\n",
        "y_bal_up = np.hstack((y[y == 0], y_upsampled))\n",
        "\n"
      ],
      "execution_count": null,
      "outputs": []
    },
    {
      "cell_type": "code",
      "metadata": {
        "colab": {
          "base_uri": "https://localhost:8080/"
        },
        "id": "ZBYx9yLmd2rC",
        "outputId": "4409bca5-f833-47b5-e17b-19d12e9cfe37"
      },
      "source": [
        "print(X_upsampled.shape, y_upsampled.shape)"
      ],
      "execution_count": null,
      "outputs": [
        {
          "output_type": "stream",
          "text": [
            "(18661, 42) (18661,)\n"
          ],
          "name": "stdout"
        }
      ]
    },
    {
      "cell_type": "code",
      "metadata": {
        "id": "yUv2uPvid0kM"
      },
      "source": [
        "## Upsample pseudocode\n",
        "from sklearn.utils import resample\n",
        "X_dnsampled, y_dnsampled = resample(X_train[y_train == 0],\n",
        "                y_train[y_train == 0],\n",
        "                replace=True,\n",
        "                n_samples=X_train[y_train == 1].shape[1],\n",
        "                random_state=123)\n",
        "\n",
        "X_bal_dn = np.vstack((X[y == 0], X_dnsampled))\n",
        "y_bal_dn = np.hstack((y[y == 0], y_dnsampled))"
      ],
      "execution_count": null,
      "outputs": []
    },
    {
      "cell_type": "code",
      "metadata": {
        "id": "RaqOIQBUeLX2"
      },
      "source": [
        ""
      ],
      "execution_count": null,
      "outputs": []
    },
    {
      "cell_type": "code",
      "metadata": {
        "id": "sy5FvTSveK-Z"
      },
      "source": [
        "# Pipeline Logistic Regression - jj\n",
        "pipeline_lr = make_pipeline(\n",
        "  StandardScaler(),\n",
        "  PCA(),\n",
        "  LogisticRegression()\n",
        ")\n",
        "\n"
      ],
      "execution_count": null,
      "outputs": []
    },
    {
      "cell_type": "code",
      "metadata": {
        "colab": {
          "base_uri": "https://localhost:8080/"
        },
        "id": "htRM8FHlXw-h",
        "outputId": "1c99a0b6-66cc-4a1e-dd70-2aaf1fae6ca0"
      },
      "source": [
        "#KNN\n",
        "from sklearn.model_selection import GridSearchCV\n",
        "from sklearn.neighbors import KNeighborsClassifier\n",
        "\n",
        "pipe_knn_gs = make_pipeline(StandardScaler(),\n",
        "                        PCA(n_components=10),\n",
        "                        KNeighborsClassifier(n_neighbors=10))\n",
        "\n",
        "param_range = [i for i in range(1,10)]\n",
        "\n",
        "param_grid = {'kneighborsclassifier__n_neighbors': param_range}\n",
        "               # note that, the name of hypyerparameter is defined by: \n",
        "               # lower case algorithm name + double underscores + parameter\n",
        "\n",
        "gs = GridSearchCV(estimator=pipe_knn_gs, \n",
        "                  param_grid=param_grid, \n",
        "                  scoring='accuracy', # evaluation metric\n",
        "                  cv=10, # fold of corss validation\n",
        "                  n_jobs=-1) # parallel calculation using all the processors\n",
        "\n",
        "gs = gs.fit(X_train, y_train)\n",
        "print(gs.best_score_)\n",
        "print(gs.best_params_)\n"
      ],
      "execution_count": null,
      "outputs": [
        {
          "output_type": "stream",
          "text": [
            "0.7948333333333334\n",
            "{'kneighborsclassifier__n_neighbors': 8}\n"
          ],
          "name": "stdout"
        }
      ]
    },
    {
      "cell_type": "code",
      "metadata": {
        "id": "sBCuWcrN8uhY"
      },
      "source": [
        "import numpy as np\n",
        "import matplotlib.pyplot as plt\n",
        "from sklearn.model_selection import learning_curve\n",
        "from sklearn.model_selection import ShuffleSplit\n",
        "\n",
        "def plot_learning_curve(estimator, title, X, y, axes=None, ylim=None, cv=None,\n",
        "                        n_jobs=None, train_sizes=np.linspace(.1, 1.0, 5)):\n",
        "    \"\"\"\n",
        "    Generate 3 plots: the test and training learning curve, the training\n",
        "    samples vs fit times curve, the fit times vs score curve.\n",
        "\n",
        "    Parameters\n",
        "    ----------\n",
        "    estimator : object type that implements the \"fit\" and \"predict\" methods\n",
        "        An object of that type which is cloned for each validation.\n",
        "\n",
        "    title : string\n",
        "        Title for the chart.\n",
        "\n",
        "    X : array-like, shape (n_samples, n_features)\n",
        "        Training vector, where n_samples is the number of samples and\n",
        "        n_features is the number of features.\n",
        "\n",
        "    y : array-like, shape (n_samples) or (n_samples, n_features), optional\n",
        "        Target relative to X for classification or regression;\n",
        "        None for unsupervised learning.\n",
        "\n",
        "    axes : array of 3 axes, optional (default=None)\n",
        "        Axes to use for plotting the curves.\n",
        "\n",
        "    ylim : tuple, shape (ymin, ymax), optional\n",
        "        Defines minimum and maximum yvalues plotted.\n",
        "\n",
        "    cv : int, cross-validation generator or an iterable, optional\n",
        "        Determines the cross-validation splitting strategy.\n",
        "        Possible inputs for cv are:\n",
        "          - None, to use the default 5-fold cross-validation,\n",
        "          - integer, to specify the number of folds.\n",
        "          - :term:`CV splitter`,\n",
        "          - An iterable yielding (train, test) splits as arrays of indices.\n",
        "\n",
        "        For integer/None inputs, if ``y`` is binary or multiclass,\n",
        "        :class:`StratifiedKFold` used. If the estimator is not a classifier\n",
        "        or if ``y`` is neither binary nor multiclass, :class:`KFold` is used.\n",
        "\n",
        "        Refer :ref:`User Guide <cross_validation>` for the various\n",
        "        cross-validators that can be used here.\n",
        "\n",
        "    n_jobs : int or None, optional (default=None)\n",
        "        Number of jobs to run in parallel.\n",
        "        ``None`` means 1 unless in a :obj:`joblib.parallel_backend` context.\n",
        "        ``-1`` means using all processors. See :term:`Glossary <n_jobs>`\n",
        "        for more details.\n",
        "\n",
        "    train_sizes : array-like, shape (n_ticks,), dtype float or int\n",
        "        Relative or absolute numbers of training examples that will be used to\n",
        "        generate the learning curve. If the dtype is float, it is regarded as a\n",
        "        fraction of the maximum size of the training set (that is determined\n",
        "        by the selected validation method), i.e. it has to be within (0, 1].\n",
        "        Otherwise it is interpreted as absolute sizes of the training sets.\n",
        "        Note that for classification the number of samples usually have to\n",
        "        be big enough to contain at least one sample from each class.\n",
        "        (default: np.linspace(0.1, 1.0, 5))\n",
        "    \"\"\"\n",
        "    if axes is None:\n",
        "        _, axes = plt.subplots(1, 3, figsize=(20, 5))\n",
        "\n",
        "    axes[0].set_title(title)\n",
        "    if ylim is not None:\n",
        "        axes[0].set_ylim(*ylim)\n",
        "    axes[0].set_xlabel(\"Training examples\")\n",
        "    axes[0].set_ylabel(\"Score\")\n",
        "\n",
        "    train_sizes, train_scores, test_scores, fit_times, _ = \\\n",
        "        learning_curve(estimator, X, y, cv=cv, n_jobs=n_jobs,\n",
        "                       train_sizes=train_sizes,\n",
        "                       return_times=True)\n",
        "    train_scores_mean = np.mean(train_scores, axis=1)\n",
        "    train_scores_std = np.std(train_scores, axis=1)\n",
        "    test_scores_mean = np.mean(test_scores, axis=1)\n",
        "    test_scores_std = np.std(test_scores, axis=1)\n",
        "    fit_times_mean = np.mean(fit_times, axis=1)\n",
        "    fit_times_std = np.std(fit_times, axis=1)\n",
        "\n",
        "    # Plot learning curve\n",
        "    axes[0].grid()\n",
        "    axes[0].fill_between(train_sizes, train_scores_mean - train_scores_std,\n",
        "                         train_scores_mean + train_scores_std, alpha=0.1,\n",
        "                         color=\"r\")\n",
        "    axes[0].fill_between(train_sizes, test_scores_mean - test_scores_std,\n",
        "                         test_scores_mean + test_scores_std, alpha=0.1,\n",
        "                         color=\"g\")\n",
        "    axes[0].plot(train_sizes, train_scores_mean, 'o-', color=\"r\",\n",
        "                 label=\"Training score\")\n",
        "    axes[0].plot(train_sizes, test_scores_mean, 'o-', color=\"g\",\n",
        "                 label=\"Cross-validation score\")\n",
        "    axes[0].legend(loc=\"best\")\n",
        "\n",
        "    # Plot n_samples vs fit_times\n",
        "    axes[1].grid()\n",
        "    axes[1].plot(train_sizes, fit_times_mean, 'o-')\n",
        "    axes[1].fill_between(train_sizes, fit_times_mean - fit_times_std,\n",
        "                         fit_times_mean + fit_times_std, alpha=0.1)\n",
        "    axes[1].set_xlabel(\"Training examples\")\n",
        "    axes[1].set_ylabel(\"fit_times\")\n",
        "    axes[1].set_title(\"Scalability of the model\")\n",
        "\n",
        "    # Plot fit_time vs score\n",
        "    axes[2].grid()\n",
        "    axes[2].plot(fit_times_mean, test_scores_mean, 'o-')\n",
        "    axes[2].fill_between(fit_times_mean, test_scores_mean - test_scores_std,\n",
        "                         test_scores_mean + test_scores_std, alpha=0.1)\n",
        "    axes[2].set_xlabel(\"fit_times\")\n",
        "    axes[2].set_ylabel(\"Score\")\n",
        "    axes[2].set_title(\"Performance of the model\")\n",
        "\n",
        "    return plt\n"
      ],
      "execution_count": null,
      "outputs": []
    },
    {
      "cell_type": "code",
      "metadata": {
        "colab": {
          "base_uri": "https://localhost:8080/",
          "height": 361
        },
        "id": "thGaqqjV9NY2",
        "outputId": "5786e3fb-4108-4a9f-9162-37b9649a6e61"
      },
      "source": [
        "pipe_knn_gs = make_pipeline(StandardScaler(),\n",
        "                        PCA(n_components=3),\n",
        "                        KNeighborsClassifier(n_neighbors=10))\n",
        "\n",
        "plot_learning_curve(pipe_knn_gs, 'KNN Test Learning Curve', X_train, y_train, axes=None, ylim=None, cv=10,\n",
        "                        n_jobs=None, train_sizes=np.linspace(.1, 1.0, 10))"
      ],
      "execution_count": null,
      "outputs": [
        {
          "output_type": "execute_result",
          "data": {
            "text/plain": [
              "<module 'matplotlib.pyplot' from '/usr/local/lib/python3.7/dist-packages/matplotlib/pyplot.py'>"
            ]
          },
          "metadata": {
            "tags": []
          },
          "execution_count": 45
        },
        {
          "output_type": "display_data",
          "data": {
            "image/png": "[encoded data removed]",
            "text/plain": [
              "<Figure size 1440x360 with 3 Axes>"
            ]
          },
          "metadata": {
            "tags": [],
            "needs_background": "light"
          }
        }
      ]
    },
    {
      "cell_type": "markdown",
      "metadata": {
        "id": "Ci6aLiwzBOvb"
      },
      "source": [
        "KNN tend to overfit the training set."
      ]
    },
    {
      "cell_type": "code",
      "metadata": {
        "colab": {
          "base_uri": "https://localhost:8080/"
        },
        "id": "Avh_mmBfGJ0G",
        "outputId": "60d44764-98e6-4e04-e64e-490ca6c24264"
      },
      "source": [
        "# RFC Parameters tunning \n",
        "from sklearn.ensemble import RandomForestClassifier\n",
        "\n",
        "RFC = RandomForestClassifier()\n",
        "\n",
        "\n",
        "## Search grid for optimal parameters\n",
        "rf_param_grid = {\"max_depth\": [None],\n",
        "              \"max_features\": [1, 3, 10],\n",
        "              \"min_samples_split\": [2, 3, 10],\n",
        "              \"min_samples_leaf\": [1, 3, 10],\n",
        "              \"bootstrap\": [False],\n",
        "              \"n_estimators\" :[100,300],\n",
        "              \"criterion\": [\"gini\"]}\n",
        "\n",
        "\n",
        "gsRFC = GridSearchCV(RFC,param_grid = rf_param_grid, cv=2, scoring=\"accuracy\", n_jobs= 1, verbose = 1)\n",
        "\n",
        "gsRFC.fit(X_train,y_train)\n",
        "\n",
        "RFC_best = gsRFC.best_estimator_\n",
        "\n",
        "# Best score\n",
        "gsRFC.best_score_"
      ],
      "execution_count": null,
      "outputs": [
        {
          "output_type": "stream",
          "text": [
            "Fitting 2 folds for each of 54 candidates, totalling 108 fits\n"
          ],
          "name": "stdout"
        },
        {
          "output_type": "stream",
          "text": [
            "[Parallel(n_jobs=1)]: Using backend SequentialBackend with 1 concurrent workers.\n",
            "[Parallel(n_jobs=1)]: Done 108 out of 108 | elapsed: 14.6min finished\n"
          ],
          "name": "stderr"
        },
        {
          "output_type": "execute_result",
          "data": {
            "text/plain": [
              "0.8165"
            ]
          },
          "metadata": {
            "tags": []
          },
          "execution_count": 46
        }
      ]
    },
    {
      "cell_type": "code",
      "metadata": {
        "colab": {
          "base_uri": "https://localhost:8080/",
          "height": 363
        },
        "id": "9pZg4xHaoOsf",
        "outputId": "682f63a4-01f7-4874-c700-358e0eb81544"
      },
      "source": [
        "pipe_rf_gs = make_pipeline(StandardScaler(),\n",
        "                        PCA(n_components=3),\n",
        "                        RandomForestClassifier())\n",
        "\n",
        "plot_learning_curve(pipe_rf_gs, 'RF Test Learning Curve', X_train, y_train, axes=None, ylim=None, cv=10,\n",
        "                        n_jobs=None, train_sizes=np.linspace(.1, 1.0, 10))"
      ],
      "execution_count": null,
      "outputs": [
        {
          "output_type": "execute_result",
          "data": {
            "text/plain": [
              "<module 'matplotlib.pyplot' from '/usr/local/lib/python3.7/dist-packages/matplotlib/pyplot.py'>"
            ]
          },
          "metadata": {
            "tags": []
          },
          "execution_count": 47
        },
        {
          "output_type": "display_data",
          "data": {
            "image/png": "[encoded data removed]",
            "text/plain": [
              "<Figure size 1440x360 with 3 Axes>"
            ]
          },
          "metadata": {
            "tags": [],
            "needs_background": "light"
          }
        }
      ]
    },
    {
      "cell_type": "code",
      "metadata": {
        "colab": {
          "base_uri": "https://localhost:8080/",
          "height": 627
        },
        "id": "KLd9JuONSJmk",
        "outputId": "9dc2a8fa-7cf0-4ce2-8fc1-05bd1fd99f20"
      },
      "source": [
        "from sklearn.linear_model import LogisticRegression\n",
        "from sklearn.ensemble import RandomForestClassifier\n",
        "from sklearn.neighbors import KNeighborsClassifier\n",
        "from sklearn.tree import DecisionTreeClassifier\n",
        "from sklearn.svm import SVC\n",
        "from sklearn.model_selection import cross_val_score\n",
        "\n",
        "random_state = 2\n",
        "classifiers = []\n",
        "classifiers.append(SVC(random_state=random_state))\n",
        "classifiers.append(DecisionTreeClassifier(random_state=random_state))\n",
        "classifiers.append(RandomForestClassifier(random_state=random_state))\n",
        "classifiers.append(KNeighborsClassifier())\n",
        "classifiers.append(LogisticRegression(random_state = random_state))\n",
        "\n",
        "\n",
        "cv_results = []\n",
        "for classifier in classifiers :\n",
        "    cv_results.append(cross_val_score(classifier, X_train, y = y_train, scoring = \"accuracy\", cv = 2, n_jobs=1))\n",
        "\n",
        "cv_means = []\n",
        "cv_std = []\n",
        "for cv_result in cv_results:\n",
        "    cv_means.append(cv_result.mean())\n",
        "    cv_std.append(cv_result.std())\n",
        "\n",
        "cv_res = pd.DataFrame({\"CrossValMeans\":cv_means,\"CrossValerrors\": cv_std,\"Algorithm\":[\"SVC\",\"DecisionTree\",\n",
        "\"RandomForest\",\"KNeighboors\",\"LogisticRegression\"]})\n",
        "\n",
        "g = sns.barplot(\"CrossValMeans\",\"Algorithm\",data = cv_res, palette=\"Set3\",orient = \"h\",**{'xerr':cv_std})\n",
        "g.set_xlabel(\"Mean Accuracy\")\n",
        "g = g.set_title(\"Cross validation scores\")"
      ],
      "execution_count": null,
      "outputs": [
        {
          "output_type": "stream",
          "text": [
            "/usr/local/lib/python3.7/dist-packages/sklearn/linear_model/_logistic.py:940: ConvergenceWarning: lbfgs failed to converge (status=1):\n",
            "STOP: TOTAL NO. of ITERATIONS REACHED LIMIT.\n",
            "\n",
            "Increase the number of iterations (max_iter) or scale the data as shown in:\n",
            "    https://scikit-learn.org/stable/modules/preprocessing.html\n",
            "Please also refer to the documentation for alternative solver options:\n",
            "    https://scikit-learn.org/stable/modules/linear_model.html#logistic-regression\n",
            "  extra_warning_msg=_LOGISTIC_SOLVER_CONVERGENCE_MSG)\n",
            "/usr/local/lib/python3.7/dist-packages/sklearn/linear_model/_logistic.py:940: ConvergenceWarning: lbfgs failed to converge (status=1):\n",
            "STOP: TOTAL NO. of ITERATIONS REACHED LIMIT.\n",
            "\n",
            "Increase the number of iterations (max_iter) or scale the data as shown in:\n",
            "    https://scikit-learn.org/stable/modules/preprocessing.html\n",
            "Please also refer to the documentation for alternative solver options:\n",
            "    https://scikit-learn.org/stable/modules/linear_model.html#logistic-regression\n",
            "  extra_warning_msg=_LOGISTIC_SOLVER_CONVERGENCE_MSG)\n",
            "/usr/local/lib/python3.7/dist-packages/seaborn/_decorators.py:43: FutureWarning: Pass the following variables as keyword args: x, y. From version 0.12, the only valid positional argument will be `data`, and passing other arguments without an explicit keyword will result in an error or misinterpretation.\n",
            "  FutureWarning\n"
          ],
          "name": "stderr"
        },
        {
          "output_type": "display_data",
          "data": {
            "image/png": "[encoded data removed]",
            "text/plain": [
              "<Figure size 432x288 with 1 Axes>"
            ]
          },
          "metadata": {
            "tags": [],
            "needs_background": "light"
          }
        }
      ]
    },
    {
      "cell_type": "code",
      "metadata": {
        "id": "7DySb3b3YMoX"
      },
      "source": [
        "from sklearn.model_selection import GridSearchCV\n",
        "from sklearn.svm import SVC\n",
        "\n",
        "pipe_svc = make_pipeline(StandardScaler(),\n",
        "                         SVC(random_state=1))\n",
        "\n",
        "param_range = [0.1, 1]\n",
        "\n",
        "param_grid = [{'svc__C': param_range, \n",
        "               # note that, the name of hypyerparameter is defined by: \n",
        "               # lower case algorithm name + double underscores + parameter\n",
        "               'svc__kernel': ['linear']},\n",
        "              {'svc__C': param_range, \n",
        "               'svc__gamma': param_range, \n",
        "               'svc__kernel': ['rbf']}]\n",
        "\n",
        "gs = GridSearchCV(estimator=pipe_svc, \n",
        "                  param_grid=param_grid, \n",
        "                  scoring='accuracy', # evaluation metric\n",
        "                  cv=10, # fold of corss validation\n",
        "                  n_jobs=1) # parallel calculation using all the processors\n",
        "\n",
        "gs = gs.fit(X_train, y_train)\n",
        "print(gs.best_score_)\n",
        "print(gs.best_params_)\n"
      ],
      "execution_count": null,
      "outputs": []
    },
    {
      "cell_type": "code",
      "metadata": {
        "id": "k8IOtEA3qoTd"
      },
      "source": [
        "### SVC classifier\n",
        "from sklearn.model_selection import GridSearchCV\n",
        "from sklearn.svm import SVC\n",
        "\n",
        "SVMC = SVC(probability=True)\n",
        "svc_param_grid = {'kernel': ['rbf'], \n",
        "                  'gamma': [ 0.001, 0.01, 0.1, 1],\n",
        "                  'C': [1, 10, 50, 100,200,300, 1000]}\n",
        "\n",
        "gsSVMC = GridSearchCV(SVMC,param_grid = svc_param_grid, cv=2, scoring=\"accuracy\", n_jobs= 1, verbose = 1)\n",
        "\n",
        "gsSVMC.fit(X_train,y_train)\n",
        "\n",
        "SVMC_best = gsSVMC.best_estimator_\n",
        "\n",
        "# Best score\n",
        "gsSVMC.best_score_"
      ],
      "execution_count": null,
      "outputs": []
    }
  ]
}